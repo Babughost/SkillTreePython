{
  "nbformat": 4,
  "nbformat_minor": 0,
  "metadata": {
    "colab": {
      "provenance": [],
      "toc_visible": true,
      "include_colab_link": true
    },
    "kernelspec": {
      "name": "python3",
      "display_name": "Python 3"
    },
    "language_info": {
      "name": "python"
    }
  },
  "cells": [
    {
      "cell_type": "markdown",
      "metadata": {
        "id": "view-in-github",
        "colab_type": "text"
      },
      "source": [
        "<a href=\"https://colab.research.google.com/github/Babughost/SkillTreePython/blob/main/6_1_%EB%9D%BC%EC%9D%B4%EB%B8%8C%EB%9F%AC%EB%A6%AC_%EB%9E%9C%EB%8D%A4.ipynb\" target=\"_parent\"><img src=\"https://colab.research.google.com/assets/colab-badge.svg\" alt=\"Open In Colab\"/></a>"
      ]
    },
    {
      "cell_type": "markdown",
      "metadata": {
        "id": "jgFAOz-Tw1VI"
      },
      "source": [
        "# 6-1.라이브러리: 랜덤\n",
        "---\n",
        "* 날짜:2023-01-04\n",
        "* 이름:김유연\n"
      ]
    },
    {
      "cell_type": "markdown",
      "metadata": {
        "id": "roC8A6Ro6THT"
      },
      "source": [
        "## 개념정리\n",
        "---\n",
        "\n",
        "전세계의 파이썬 사용자들이 유용한 라이브러리를 만들어 놓았습니다. 수많은 파이썬 라이브러리가 있지만 그중에서도 유용하고 기본적인 라이브러리를 알아보도록 하겠습니다. \n",
        "\n",
        "주사위를 던지거나 복권추첨 등 난수를 이용해서 코드를 짜야할 때가 종종 있습니다. 파이썬에서 난수를 만드는 방법을 알아보도록 하겠습니다. 난수를 만드는 모듈은 **random** 을 이용합니다. "
      ]
    },
    {
      "cell_type": "markdown",
      "metadata": {
        "id": "HjPXsM8C5ULZ"
      },
      "source": [
        "### **(1) 라이브러리 임포트(import)**\n",
        "\n",
        "아래와 같이 `random` 모듈을 `import` 해줍니다.\n",
        "\n",
        "```\n",
        "import random\n",
        "```\n"
      ]
    },
    {
      "cell_type": "code",
      "metadata": {
        "id": "9pxx7Zy53xFz"
      },
      "source": [
        "import random # random 라이브러리 가져오기"
      ],
      "execution_count": null,
      "outputs": []
    },
    {
      "cell_type": "markdown",
      "source": [
        "### **(2) 기본 사용 : `random`**"
      ],
      "metadata": {
        "id": "4hBv297VxWGr"
      }
    },
    {
      "cell_type": "markdown",
      "metadata": {
        "id": "o4Y67BgLKmxO"
      },
      "source": [
        "#### **랜덤값 생성**\n",
        "\n"
      ]
    },
    {
      "cell_type": "markdown",
      "metadata": {
        "id": "zD6gfuVD3xwx"
      },
      "source": [
        "* `random.random` : 0과 1사이의 난수를 무작위로 생성합니다.\n",
        "\n",
        "```\n",
        "random.random()\n",
        "```\n",
        "\n"
      ]
    },
    {
      "cell_type": "code",
      "metadata": {
        "id": "OaowHk_83leh",
        "colab": {
          "base_uri": "https://localhost:8080/"
        },
        "outputId": "c22df02f-9107-46d5-bbb0-bd567542a1ab"
      },
      "source": [
        "print(random.random())\n",
        "\n",
        "rnd_float = random.random()\n",
        "print(rnd_float)"
      ],
      "execution_count": null,
      "outputs": [
        {
          "output_type": "stream",
          "name": "stdout",
          "text": [
            "0.12968294872983877\n",
            "0.8927595711081953\n"
          ]
        }
      ]
    },
    {
      "cell_type": "markdown",
      "metadata": {
        "id": "BOwMgkiC4RqB"
      },
      "source": [
        "* `random.randint`: 특정 범위 랜덤한 정수를 무작위로 생성합니다. (a이상 b 이하)\n",
        "\n",
        "```\n",
        "random.randint(a, b)\n",
        "```\n",
        "\n"
      ]
    },
    {
      "cell_type": "code",
      "metadata": {
        "id": "_zG33m-S4RqI",
        "colab": {
          "base_uri": "https://localhost:8080/"
        },
        "outputId": "e947a4de-6ea9-4f6f-fefb-99fd342a2410"
      },
      "source": [
        "random.randint(1, 46)"
      ],
      "execution_count": null,
      "outputs": [
        {
          "output_type": "execute_result",
          "data": {
            "text/plain": [
              "30"
            ]
          },
          "metadata": {},
          "execution_count": 4
        }
      ]
    },
    {
      "cell_type": "markdown",
      "metadata": {
        "id": "CbpP-qatLAmI"
      },
      "source": [
        "#### **랜덤값 추출**"
      ]
    },
    {
      "cell_type": "markdown",
      "metadata": {
        "id": "uETLiTpC5OQd"
      },
      "source": [
        "* `random.choice`: 주어진 sequence 에서 랜덤으로 한개의 요소를 뽑습니다.\n",
        "\n",
        "```\n",
        "a = [1,2,3] # 리스트 a가 주어졌을 때 \n",
        "b = random.choice(a) # a의 요소 중 한개를 뽑아 b로 바인딩\n",
        "print(b)\n",
        "```\n",
        "\n"
      ]
    },
    {
      "cell_type": "code",
      "metadata": {
        "id": "MKMHr7p651mJ",
        "colab": {
          "base_uri": "https://localhost:8080/"
        },
        "outputId": "6b472ec3-fd41-4318-d698-648e8a3bd060"
      },
      "source": [
        "a = [1,2,3] # 리스트 a가 주어졌을 때 \n",
        "b = random.choice(a) # a의 요소 중 한개를 뽑아 b로 바인딩\n",
        "print(b)"
      ],
      "execution_count": null,
      "outputs": [
        {
          "output_type": "stream",
          "name": "stdout",
          "text": [
            "1\n"
          ]
        }
      ]
    },
    {
      "cell_type": "markdown",
      "metadata": {
        "id": "PbidqOm3z7sn"
      },
      "source": [
        "* `random.choices` : 주어진 sequence 에서 랜덤으로 k개의 요소를 뽑습니다. 중복이 가능합니다.\n",
        "\n",
        "```\n",
        "a = [1,2,3] # 리스트 a가 주어졌을 때 \n",
        "b = random.choices(a, k=2) # a의 요소 중 k개를 뽑아 b로 바인딩\n",
        "print(b)\n",
        "```\n",
        "\n"
      ]
    },
    {
      "cell_type": "code",
      "metadata": {
        "id": "sgyxjWvLz7sv",
        "colab": {
          "base_uri": "https://localhost:8080/"
        },
        "outputId": "f9f3cbd9-777d-4041-e989-07852dc40f82"
      },
      "source": [
        "a = [1,2,3] # 리스트 a가 주어졌을 때 \n",
        "b = random.choices(a, k=2) # a의 요소 중 k개를 뽑아 b로 바인딩\n",
        "print(b) # 중복으로 추출이 가능하다"
      ],
      "execution_count": null,
      "outputs": [
        {
          "output_type": "stream",
          "name": "stdout",
          "text": [
            "[1, 2]\n"
          ]
        }
      ]
    },
    {
      "cell_type": "markdown",
      "metadata": {
        "id": "A17ZgbqfK3lr"
      },
      "source": [
        "#### **기타**"
      ]
    },
    {
      "cell_type": "markdown",
      "metadata": {
        "id": "9od_vtK84u_4"
      },
      "source": [
        "* `random.shuffle` : 특정 시퀀스를 랜덤하게 섞는 함수입니다.\n",
        "\n",
        "```\n",
        "a = [1,2,3]\n",
        "random.shuffle(a)\n",
        "print(a)\n",
        "```\n",
        "\n"
      ]
    },
    {
      "cell_type": "code",
      "metadata": {
        "id": "_srXvBaG4Xmi",
        "colab": {
          "base_uri": "https://localhost:8080/"
        },
        "outputId": "ee79d68c-ccff-4ee4-ef79-65b79a744a65"
      },
      "source": [
        "a = [1,2,3]\n",
        "random.shuffle(a) # 바인딩 안함\n",
        "print(a)"
      ],
      "execution_count": null,
      "outputs": [
        {
          "output_type": "stream",
          "name": "stdout",
          "text": [
            "[2, 3, 1]\n"
          ]
        }
      ]
    },
    {
      "cell_type": "markdown",
      "metadata": {
        "id": "qgwblcg16Qb7"
      },
      "source": [
        "# 예제\n",
        "---"
      ]
    },
    {
      "cell_type": "markdown",
      "metadata": {
        "id": "wEh21CAlIF5M"
      },
      "source": [
        "####**예제 01 여러번의 주사위**\n",
        "\n",
        "\n",
        "    - 주사위를 던지면 1에서 6까지 숫자가 랜덤으로 나옵니다.\n",
        "    - 주사위를 사용하가 입력한 만큼 돌리고 각숫자가 몇번씩 나왔는지 알려주는 함수를 작성하세요\n"
      ]
    },
    {
      "cell_type": "code",
      "metadata": {
        "id": "kv4kbTMuAoLN",
        "colab": {
          "base_uri": "https://localhost:8080/"
        },
        "outputId": "adfeb3d9-43c1-4b7c-da7f-a3b15e738fa9"
      },
      "source": [
        "import random\n",
        "\n",
        "def roll_dice(num_rolls):\n",
        "  results = {\n",
        "    1: 0,\n",
        "    2: 0,\n",
        "    3: 0,\n",
        "    4: 0,\n",
        "    5: 0,\n",
        "    6: 0\n",
        "  }\n",
        "  \n",
        "  for i in range(num_rolls):\n",
        "    roll = random.randint(1, 6)\n",
        "    results[roll] += 1\n",
        "  return results\n",
        "\n",
        "print(roll_dice(10))"
      ],
      "execution_count": 2,
      "outputs": [
        {
          "output_type": "stream",
          "name": "stdout",
          "text": [
            "{1: 1, 2: 5, 3: 0, 4: 1, 5: 3, 6: 0}\n"
          ]
        }
      ]
    },
    {
      "cell_type": "markdown",
      "metadata": {
        "id": "R_v3MPkG6zci"
      },
      "source": [
        "####**예제 02 업다운게임**\n",
        "\n",
        "    - 1~100까지 값이 랜덤하게 지정됩니다.\n",
        "    - 랜덤값(정답)이 사용자가 찍은 답보다 높으면 UP\n",
        "    - 랜덤값이 낮으면 DOWN\n",
        "    - 랜덤값을 맞추면 \"CORRECT\"를 출력합니다.\n",
        "    - 사용자가 랜덤값을 맞출 때까지 진행됩니다.\n"
      ]
    },
    {
      "cell_type": "code",
      "metadata": {
        "id": "rchkDnZE6y10",
        "colab": {
          "base_uri": "https://localhost:8080/"
        },
        "outputId": "fe46fde7-cd5a-4cf9-e8b8-c823b566d383"
      },
      "source": [
        "crt_num = random.randint(1,101)\n",
        "# print(crt_num) # 검증용\n",
        "\n",
        "while True :\n",
        "  ans_num = int(input('랜덤값을 맞추세요 : '))\n",
        "  if ans_num > crt_num :\n",
        "    print(f'Down')\n",
        "  elif ans_num < crt_num :\n",
        "    print(f'Up')\n",
        "  elif ans_num == crt_num :\n",
        "    print(f'CORRECT')\n",
        "    break"
      ],
      "execution_count": 3,
      "outputs": [
        {
          "output_type": "stream",
          "name": "stdout",
          "text": [
            "랜덤값을 맞추세요 : 70\n",
            "Down\n",
            "랜덤값을 맞추세요 : 60\n",
            "Down\n",
            "랜덤값을 맞추세요 : 30\n",
            "Up\n",
            "랜덤값을 맞추세요 : 40\n",
            "Up\n",
            "랜덤값을 맞추세요 : 50\n",
            "Up\n",
            "랜덤값을 맞추세요 : 55\n",
            "Up\n",
            "랜덤값을 맞추세요 : 57\n",
            "Up\n",
            "랜덤값을 맞추세요 : 58\n",
            "Up\n",
            "랜덤값을 맞추세요 : 59\n",
            "CORRECT\n"
          ]
        }
      ]
    },
    {
      "cell_type": "markdown",
      "metadata": {
        "id": "l3NBAKiG7sD8"
      },
      "source": [
        "####**예제 03 숫자야구**\n",
        "\n",
        "    - 0~9까지 값을 지닌 3자리 숫자가 랜덤하게 지정됩니다.\n",
        "    - 각 자리 숫자는 중복되지 않아야 합니다.\n",
        "    - 맞춰야할 랜덤값 3개중 자리수에 상관없이 맞추면 \"볼\", 자리수까지 맞추면 \"홈런\" 입니다.\n",
        "    - 사용자가 지정된 랜덤값을 맞출 때까지 진행됩니다.\n",
        "\n",
        "\n",
        "\n",
        "* 아래 표는 랜덤값이 123일 때 사용자의 입력과 그에 따른 출력을 나타낸 표입니다. \n",
        "\n",
        "입력|출력\n",
        "---|---\n",
        "123| 3볼 3홈런\n",
        "132| 3볼 1홈런\n",
        "231| 3볼 0홈런 \n",
        "125| 2볼 2홈런\n",
        "\n"
      ]
    },
    {
      "cell_type": "code",
      "metadata": {
        "id": "T6yhNpAT6RsJ",
        "colab": {
          "base_uri": "https://localhost:8080/"
        },
        "outputId": "1d61f4a2-e6f3-4334-c076-0a2fb59cb576"
      },
      "source": [
        "import random\n",
        "\n",
        "def play():\n",
        "  answer = random.sample(range(10), 3)\n",
        "  # answer = [1,2,3]\n",
        "  # print(answer) # 검증용\n",
        "\n",
        "  while True:\n",
        "    user_input = input(\"입력: \")\n",
        "    if len(user_input) != 3:\n",
        "      print(\"잘못된 입력입니다. 3자리 숫자를 입력해주세요.\")\n",
        "      continue\n",
        "    if len(set(user_input)) != 3:\n",
        "      print(\"잘못된 입력입니다. 3개의 중복되지 않은 숫자를 입력해주세요.\")\n",
        "      continue\n",
        "    guess = [int(i) for i in user_input]\n",
        "    ball_hits = sum([1 for i in guess if i in answer])\n",
        "    num_hits = sum([1 for x, y in zip(guess, answer) if x == y])\n",
        "    if guess == answer:\n",
        "      print(f\"{ball_hits}볼 {num_hits}홈런\")\n",
        "      print(\"홈런!\")\n",
        "      break\n",
        "    print(f\"{ball_hits}볼 {num_hits}홈런\")\n",
        "\n",
        "play()\n"
      ],
      "execution_count": 4,
      "outputs": [
        {
          "output_type": "stream",
          "name": "stdout",
          "text": [
            "입력: 123\n",
            "1볼 0홈런\n",
            "입력: 145\n",
            "1볼 0홈런\n",
            "입력: 167\n",
            "1볼 1홈런\n",
            "입력: 168\n",
            "0볼 0홈런\n",
            "입력: 687\n",
            "1볼 1홈런\n",
            "입력: 987\n",
            "1볼 1홈런\n",
            "입력: 916\n",
            "0볼 0홈런\n",
            "입력: 917\n",
            "1볼 1홈런\n",
            "입력: 297\n",
            "2볼 2홈런\n",
            "입력: 397\n",
            "1볼 1홈런\n",
            "입력: 287\n",
            "2볼 2홈런\n",
            "입력: 267\n",
            "2볼 2홈런\n",
            "입력: 257\n",
            "3볼 3홈런\n",
            "홈런!\n"
          ]
        }
      ]
    },
    {
      "cell_type": "markdown",
      "metadata": {
        "id": "Mal9fB6ZmXXV"
      },
      "source": [
        "####**예제 04 같은 그림 맞추기**\n",
        "\n",
        "    - 숫자가 1부터 16까지 순서대로 나열됩니다. (4x4 크기).\n",
        "    - 숫자 두개를 고르면 고른 숫자카드 두개는 알파벳이 보여집니다. \n",
        "    - 두 알파벳이 동일하면 알파벳이 보여진채로 다음 숫자 두개를 고릅니다.\n",
        "    - 두 알파벳이 다르면 다시 숫자카드가 보인채로 다음 숫자 두개를 고릅니다.\n",
        "    - 알파벳이 모두 보여지면 게임이 끝납니다.\n",
        "\n",
        "* 예시\n",
        "\n",
        "```\n",
        ">> 같은그림 맞추기 시작! \n",
        "\n",
        "| 1| 2| 3| 4|\n",
        "| 5| 6| 7| 8|\n",
        "| 9|10|11|12|\n",
        "|13|14|15|16|\n",
        "\n",
        ">> 숫자1: 5\n",
        ">> 숫자2: 10\n",
        "\n",
        "| 1| 2| 3| 4|\n",
        "| A| 6| 7| 8|\n",
        "| 9| A|11|12|\n",
        "|13|14|15|16|\n",
        "\n",
        "```\n"
      ]
    },
    {
      "cell_type": "code",
      "source": [
        "letters = {\n",
        "    1: \"A\", 2: \"B\", 3: \"C\", 4: \"D\", \n",
        "    5: \"E\", 6: \"F\", 7: \"G\", 8: \"H\", \n",
        "    9: \"A\", 10: \"B\", 11: \"C\", 12: \"D\", \n",
        "    13: \"E\", 14: \"F\", 15: \"G\", 16: \"H\"\n",
        "    }\n",
        "\n",
        "revealed_letters = []\n",
        "\n",
        "print(\"같은그림 맞추기 시작!\")\n",
        "\n",
        "# Initialize the board as a list of lists with all elements set to ' '\n",
        "board = [[' ' for _ in range(4)] for _ in range(4)]\n",
        "\n",
        "\n",
        "while len(revealed_letters) < 16:\n",
        "  # Print the board\n",
        "  print(f\"|{board[0][0]}|{board[0][1]}|{board[0][2]}|{board[0][3]}|\")\n",
        "  print(f\"|{board[1][0]}|{board[1][1]}|{board[1][2]}|{board[1][3]}|\")\n",
        "  print(f\"|{board[2][0]}|{board[2][1]}|{board[2][2]}|{board[2][3]}|\")\n",
        "  print(f\"|{board[3][0]}|{board[3][1]}|{board[3][2]}|{board[3][3]}|\")\n",
        "  \n",
        "  num1 = int(input(\"숫자1: \"))\n",
        "  num2 = int(input(\"숫자2: \"))\n",
        "\n",
        "  if num1 not in letters or num2 not in letters:\n",
        "    print(\"잘못된 숫자가 입력되었습니다. 다시 입력해주세요.\")\n",
        "    continue\n",
        "\n",
        "  if letters[num1] == letters[num2]:\n",
        "    # Convert the numbers to indices for the board\n",
        "    row1 = (num1 - 1) // 4\n",
        "    col1 = (num1 - 1) % 4\n",
        "    row2 = (num2 - 1) // 4\n",
        "    col2 = (num2 - 1) % 4\n",
        "\n",
        "    # Update the board\n",
        "    board[row1][col1] = letters[num1]\n",
        "    board[row2][col2] = letters[num2]\n",
        "    revealed_letters.append(letters[num1])\n",
        "    revealed_letters.append(letters[num2])\n",
        "  else:\n",
        "    pass\n",
        "\n",
        "print(\"게임이 끝났습니다.\")"
      ],
      "metadata": {
        "id": "hHpcw4MOJgjU",
        "colab": {
          "base_uri": "https://localhost:8080/"
        },
        "outputId": "bf10e443-62d3-44a3-d5b2-477848b2a9ea"
      },
      "execution_count": 10,
      "outputs": [
        {
          "output_type": "stream",
          "name": "stdout",
          "text": [
            "같은그림 맞추기 시작!\n",
            "| | | | |\n",
            "| | | | |\n",
            "| | | | |\n",
            "| | | | |\n",
            "숫자1: 1\n",
            "숫자2: 9\n",
            "|A| | | |\n",
            "| | | | |\n",
            "|A| | | |\n",
            "| | | | |\n",
            "숫자1: 2\n",
            "숫자2: 10\n",
            "|A|B| | |\n",
            "| | | | |\n",
            "|A|B| | |\n",
            "| | | | |\n",
            "숫자1: 3\n",
            "숫자2: 11\n",
            "|A|B|C| |\n",
            "| | | | |\n",
            "|A|B|C| |\n",
            "| | | | |\n",
            "숫자1: 4\n",
            "숫자2: 12\n",
            "|A|B|C|D|\n",
            "| | | | |\n",
            "|A|B|C|D|\n",
            "| | | | |\n",
            "숫자1: 5\n",
            "숫자2: 13\n",
            "|A|B|C|D|\n",
            "|E| | | |\n",
            "|A|B|C|D|\n",
            "|E| | | |\n",
            "숫자1: 6\n",
            "숫자2: 14\n",
            "|A|B|C|D|\n",
            "|E|F| | |\n",
            "|A|B|C|D|\n",
            "|E|F| | |\n",
            "숫자1: 7\n",
            "숫자2: 15\n",
            "|A|B|C|D|\n",
            "|E|F|G| |\n",
            "|A|B|C|D|\n",
            "|E|F|G| |\n",
            "숫자1: 8\n",
            "숫자2: 16\n",
            "게임이 끝났습니다.\n"
          ]
        }
      ]
    },
    {
      "cell_type": "code",
      "source": [],
      "metadata": {
        "id": "Crt57k9kQy5W"
      },
      "execution_count": null,
      "outputs": []
    }
  ]
}