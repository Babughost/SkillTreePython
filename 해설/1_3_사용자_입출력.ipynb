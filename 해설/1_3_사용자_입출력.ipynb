{
  "nbformat": 4,
  "nbformat_minor": 0,
  "metadata": {
    "colab": {
      "name": "1-3.사용자 입출력.ipynb",
      "provenance": [],
      "authorship_tag": "ABX9TyO+Z4ztbMSJqZ4bLGy9//nm",
      "include_colab_link": true
    },
    "kernelspec": {
      "name": "python3",
      "display_name": "Python 3"
    },
    "language_info": {
      "name": "python"
    }
  },
  "cells": [
    {
      "cell_type": "markdown",
      "metadata": {
        "id": "view-in-github",
        "colab_type": "text"
      },
      "source": [
        "<a href=\"https://colab.research.google.com/github/yebiny/SkillTreePython/blob/main/%ED%95%B4%EC%84%A4/1_3_%EC%82%AC%EC%9A%A9%EC%9E%90_%EC%9E%85%EC%B6%9C%EB%A0%A5.ipynb\" target=\"_parent\"><img src=\"https://colab.research.google.com/assets/colab-badge.svg\" alt=\"Open In Colab\"/></a>"
      ]
    },
    {
      "cell_type": "markdown",
      "source": [
        "# 1-3. 사용자 입출력\n",
        "---\n",
        "* 날짜:\n",
        "* 이름: 윤예빈"
      ],
      "metadata": {
        "id": "kB5IciXEm6o4"
      }
    },
    {
      "cell_type": "markdown",
      "source": [
        "## 개념정리\n",
        "---\n",
        "\n",
        "\n",
        "사용자에게서 변수를 얻어서 그에 맞는 프로그램을 짜고 싶다면 입력기능이 필요합니다. 또한 원하는 기능을 실행 후 결과물을 확인하고 싶다면 출력기능이 필요합니다. 이번시간에서는 파이썬의 입출력기능을 알아보도록 합니다.\n",
        "\n"
      ],
      "metadata": {
        "id": "4iN8NFzHRJ2D"
      }
    },
    {
      "cell_type": "markdown",
      "source": [
        "### **(1) 입력**\n",
        "\n",
        "\n",
        "\n"
      ],
      "metadata": {
        "id": "UKlkHH0IRL5h"
      }
    },
    {
      "cell_type": "markdown",
      "source": [
        "사용자의 입력을 파이썬의 `input()` 함수를 이용해서 받을 수 있습니다. 아래 코드를 실행하면 사용자의 입력을 받는 창이 나타납니다.\n",
        "\n",
        "```\n",
        "input()\n",
        "```\n",
        "\n"
      ],
      "metadata": {
        "id": "opbfNksrAq4P"
      }
    },
    {
      "cell_type": "code",
      "source": [
        "input()"
      ],
      "metadata": {
        "id": "MMZ81oTLAsnC",
        "colab": {
          "base_uri": "https://localhost:8080/",
          "height": 56
        },
        "outputId": "02ee7b6c-f9cb-4163-aecc-b0bcddbdc29f"
      },
      "execution_count": 1,
      "outputs": [
        {
          "name": "stdout",
          "output_type": "stream",
          "text": [
            "윤예빈\n"
          ]
        },
        {
          "output_type": "execute_result",
          "data": {
            "text/plain": [
              "'윤예빈'"
            ],
            "application/vnd.google.colaboratory.intrinsic+json": {
              "type": "string"
            }
          },
          "metadata": {},
          "execution_count": 1
        }
      ]
    },
    {
      "cell_type": "markdown",
      "source": [
        "#### **설명 추가**\n",
        "\n",
        "입력을 받을 때 설명을 추가해주고 싶다면 아래와 같이 함수의 괄호 안에 문자열을 삽입합니다.\n",
        "```\n",
        "input(\"이름을 입력하세요:\")\n",
        "```"
      ],
      "metadata": {
        "id": "W5qe6MfoAr0T"
      }
    },
    {
      "cell_type": "code",
      "source": [
        "input(\" - 이름을 입력해 주세요: \") # 아웃풋"
      ],
      "metadata": {
        "id": "cZ-eUn5WAs-f",
        "colab": {
          "base_uri": "https://localhost:8080/",
          "height": 56
        },
        "outputId": "758c2f4d-db81-4547-94c2-42dd581a1fbf"
      },
      "execution_count": 2,
      "outputs": [
        {
          "name": "stdout",
          "output_type": "stream",
          "text": [
            " - 이름을 입력해 주세요: 윤예빈\n"
          ]
        },
        {
          "output_type": "execute_result",
          "data": {
            "text/plain": [
              "'윤예빈'"
            ],
            "application/vnd.google.colaboratory.intrinsic+json": {
              "type": "string"
            }
          },
          "metadata": {},
          "execution_count": 2
        }
      ]
    },
    {
      "cell_type": "markdown",
      "source": [
        "#### **바인딩**\n",
        "\n",
        "`input()` 함수로 받은 값을 바인딩 하여 저장할 수 있습니다.\n",
        "```\n",
        "my_name = input('이름을 입력하세요:')\n",
        "```\n"
      ],
      "metadata": {
        "id": "6e0WFOgKBIXo"
      }
    },
    {
      "cell_type": "code",
      "source": [],
      "metadata": {
        "id": "YgTwJ-yXw_WE"
      },
      "execution_count": null,
      "outputs": []
    },
    {
      "cell_type": "code",
      "source": [
        "# 내장 함수 \n",
        "my_name = input(\"이름을 입력해 주세요: \")"
      ],
      "metadata": {
        "id": "21s6EP4QFU6s",
        "colab": {
          "base_uri": "https://localhost:8080/"
        },
        "outputId": "cc287784-01f2-4135-9c67-c86c0b7c6e4b"
      },
      "execution_count": 3,
      "outputs": [
        {
          "name": "stdout",
          "output_type": "stream",
          "text": [
            "이름을 입력해 주세요: 윤예빈\n"
          ]
        }
      ]
    },
    {
      "cell_type": "markdown",
      "source": [
        "\n",
        "위에서 선언한 `my_name`을 확인해 봅시다.\n",
        "\n",
        "```\n",
        "my_name, type(my_name)\n",
        "```\n",
        "\n"
      ],
      "metadata": {
        "id": "Fi-eRFJ_Dbog"
      }
    },
    {
      "cell_type": "code",
      "source": [
        "my_name, type(my_name)"
      ],
      "metadata": {
        "id": "XYu0SS3pFd5V",
        "colab": {
          "base_uri": "https://localhost:8080/"
        },
        "outputId": "e669e5d2-ad19-4dfd-bc8b-6ccab35dd943"
      },
      "execution_count": 4,
      "outputs": [
        {
          "output_type": "execute_result",
          "data": {
            "text/plain": [
              "('윤예빈', str)"
            ]
          },
          "metadata": {},
          "execution_count": 4
        }
      ]
    },
    {
      "cell_type": "markdown",
      "source": [
        "\n",
        "`input()` 함수로 바인딩한 값은 모두 `문자열(str)` 임을 주의합니다. \n",
        "```\n",
        "my_age = input(\"나이를 입력하세요: \")\n",
        "type(my_age)\n",
        "```"
      ],
      "metadata": {
        "id": "3Cr--Bt7DcZ3"
      }
    },
    {
      "cell_type": "code",
      "source": [
        "my_age = input(\"나이를 입력하세요: \")\n",
        "type(my_age)"
      ],
      "metadata": {
        "id": "ond0nWOBRNlE",
        "colab": {
          "base_uri": "https://localhost:8080/"
        },
        "outputId": "3f780c26-13b3-4eae-f69e-cd2e11f6fc60"
      },
      "execution_count": 6,
      "outputs": [
        {
          "name": "stdout",
          "output_type": "stream",
          "text": [
            "나이를 입력하세요: 31\n"
          ]
        },
        {
          "output_type": "execute_result",
          "data": {
            "text/plain": [
              "str"
            ]
          },
          "metadata": {},
          "execution_count": 6
        }
      ]
    },
    {
      "cell_type": "markdown",
      "source": [
        "### **(2) 출력**\n",
        "---\n"
      ],
      "metadata": {
        "id": "sRuCgcK-JvNK"
      }
    },
    {
      "cell_type": "markdown",
      "source": [
        "* `print()` : 원하는 값을 출력 할 수 있습니다. \n",
        "\n",
        "```\n",
        "print(2)\n",
        "```\n"
      ],
      "metadata": {
        "id": "DTfxz37ERNu5"
      }
    },
    {
      "cell_type": "code",
      "source": [
        "print(3)\n",
        "print(5)"
      ],
      "metadata": {
        "id": "a7CnXb5sRf9R",
        "colab": {
          "base_uri": "https://localhost:8080/"
        },
        "outputId": "300b48dc-dd6f-44d2-cb4f-d0cb56537266"
      },
      "execution_count": 10,
      "outputs": [
        {
          "output_type": "stream",
          "name": "stdout",
          "text": [
            "3\n",
            "5\n"
          ]
        }
      ]
    },
    {
      "cell_type": "markdown",
      "source": [
        "문자 또한 출력 할 수 있습니다.\n",
        "\n",
        "```\n",
        "print(\"hello\")\n",
        "print('world')\n",
        "```\n"
      ],
      "metadata": {
        "id": "hP1Dg3r-RgFG"
      }
    },
    {
      "cell_type": "code",
      "source": [
        "print('hello')"
      ],
      "metadata": {
        "id": "_ZNiNuDdROf4",
        "colab": {
          "base_uri": "https://localhost:8080/"
        },
        "outputId": "132abd0f-2cd4-4166-ab25-3fb248a99824"
      },
      "execution_count": 11,
      "outputs": [
        {
          "output_type": "stream",
          "name": "stdout",
          "text": [
            "hello\n"
          ]
        }
      ]
    },
    {
      "cell_type": "markdown",
      "source": [
        "여러개의 인풋을 함께 쉼표(  `,`  )를 이용해 출력할 수 있습니다.\n",
        "\n",
        "```\n",
        "print(5,  \"apples\")\n",
        "```"
      ],
      "metadata": {
        "id": "mZpdPQfzKCY-"
      }
    },
    {
      "cell_type": "code",
      "source": [
        "print( 5, \"apples\" )"
      ],
      "metadata": {
        "id": "AIZD4839KB1R",
        "colab": {
          "base_uri": "https://localhost:8080/"
        },
        "outputId": "61237f3b-e221-4852-c23e-8b9220b7f951"
      },
      "execution_count": 12,
      "outputs": [
        {
          "output_type": "stream",
          "name": "stdout",
          "text": [
            "5 apples\n"
          ]
        }
      ]
    },
    {
      "cell_type": "markdown",
      "source": [
        "#### **옵션**\n",
        "\n",
        "* `sep` : 출력하는 값들 사이를 어떤 값으로 채울지 지정할 수 있습니다. 디폴트 값은 스페이스(' ') 입니다.\n",
        "\n",
        "```\n",
        "print(\"Hello\", \"world\", 1, 2, 3, sep='*')\n",
        "      <--------------인풋------> <-옵션->\n",
        "```\n",
        "\n"
      ],
      "metadata": {
        "id": "NBoLmg06ROrn"
      }
    },
    {
      "cell_type": "code",
      "source": [
        "print(\"Hello\", \"world\", 1, 2, 3, sep=\" \")"
      ],
      "metadata": {
        "id": "W3O4k_RPKF7g",
        "colab": {
          "base_uri": "https://localhost:8080/"
        },
        "outputId": "8d24da93-5294-4a13-f4df-61b9237c23c2"
      },
      "execution_count": 16,
      "outputs": [
        {
          "output_type": "stream",
          "name": "stdout",
          "text": [
            "Hello world 1 2 3\n"
          ]
        }
      ]
    },
    {
      "cell_type": "markdown",
      "source": [
        "* `end` : 문장이 끝날 때 어떤 문자로 끝날 지 지정해 줍니다. 기본값은 줄바꿈(`\\`) 입니다.\n",
        "\n",
        "```\n",
        "print(\"Hello\", \"world\", 1, 2, 3, end='*')\n",
        "```"
      ],
      "metadata": {
        "id": "-kjP5YIuKGMl"
      }
    },
    {
      "cell_type": "code",
      "source": [
        "print(1, end=' - ') # \\n은 줄바꿈\n",
        "print(2)"
      ],
      "metadata": {
        "id": "FiKhVqs4RX1Q",
        "colab": {
          "base_uri": "https://localhost:8080/"
        },
        "outputId": "f9e1cd1a-7038-46d4-d3cc-c0c2d22d5d2d"
      },
      "execution_count": 19,
      "outputs": [
        {
          "output_type": "stream",
          "name": "stdout",
          "text": [
            "1 - 2\n"
          ]
        }
      ]
    },
    {
      "cell_type": "markdown",
      "source": [
        "## 문제풀이\n",
        "---"
      ],
      "metadata": {
        "id": "JPZeQrxgxJJF"
      }
    },
    {
      "cell_type": "markdown",
      "source": [
        "**예제 01**\n",
        "\n",
        "아래와 같이 직업을 입력하는 코드를 작성하세요\n",
        "\n",
        "```\n",
        ">> 직업을 입력하세요: \n",
        "```"
      ],
      "metadata": {
        "id": "4Hptj9hUxPr3"
      }
    },
    {
      "cell_type": "code",
      "source": [
        "input(\"직업을 입력하세요:\")"
      ],
      "metadata": {
        "id": "yvAcIx4L8Zwt",
        "colab": {
          "base_uri": "https://localhost:8080/",
          "height": 56
        },
        "outputId": "9e102d5c-9b76-4e5c-ff82-366a78d78d7f"
      },
      "execution_count": 20,
      "outputs": [
        {
          "name": "stdout",
          "output_type": "stream",
          "text": [
            "직업을 입력하세요:강사\n"
          ]
        },
        {
          "output_type": "execute_result",
          "data": {
            "text/plain": [
              "'강사'"
            ],
            "application/vnd.google.colaboratory.intrinsic+json": {
              "type": "string"
            }
          },
          "metadata": {},
          "execution_count": 20
        }
      ]
    },
    {
      "cell_type": "markdown",
      "source": [
        "\n",
        "**예제 02**\n",
        "\n",
        "아래와 같이 직업을 입력하면 소개글을 출력하는 코드를 작성하세요\n",
        "\n",
        "\n",
        "```\n",
        ">> 직업을 입력하세요: \n",
        ">> 당신의 직업은 강사 입니다.\n",
        "```\n"
      ],
      "metadata": {
        "id": "S6NDuF_TxNsj"
      }
    },
    {
      "cell_type": "code",
      "source": [
        "my_job = input(\"직업을 입력하세요:\")\n",
        "print(\"당신의 직업은\", my_job, \"입니다.\")"
      ],
      "metadata": {
        "id": "IUQi5TpfxLwc",
        "colab": {
          "base_uri": "https://localhost:8080/"
        },
        "outputId": "f4287271-3f1b-4bac-b034-904223d373d7"
      },
      "execution_count": 27,
      "outputs": [
        {
          "output_type": "stream",
          "name": "stdout",
          "text": [
            "직업을 입력하세요:강사\n",
            "당신의 직업은 강사 입니다.\n"
          ]
        }
      ]
    },
    {
      "cell_type": "markdown",
      "source": [
        "**예제 03**\n",
        "\n",
        "아래와 같이 직업을 입력하면 소개글을 출력하는 코드를 작성하세요\n",
        "\n",
        "```\n",
        ">> 직업을 입력하세요: \n",
        ">> 당신의 직업은 '강사' 입니다.\n",
        "```"
      ],
      "metadata": {
        "id": "stz9gemAxRNI"
      }
    },
    {
      "cell_type": "code",
      "source": [
        "my_job = input(\"직업을 입력하세요:\")\n",
        "print(\"당신의 직업은 '\", my_job, \"' 입니다.\",  sep='')"
      ],
      "metadata": {
        "id": "pBWMoVPC8aJ8",
        "colab": {
          "base_uri": "https://localhost:8080/"
        },
        "outputId": "3b4ca5ba-07cf-4612-d025-7a10b910a883"
      },
      "execution_count": 32,
      "outputs": [
        {
          "output_type": "stream",
          "name": "stdout",
          "text": [
            "직업을 입력하세요:강사\n",
            "당신의 직업은 '강사' 입니다.\n"
          ]
        }
      ]
    },
    {
      "cell_type": "markdown",
      "source": [
        "**예제 04**\n",
        "\n",
        "아래와 같이 좋아하는 숫자를 출력하는 코드를 작성하세요\n",
        "\n",
        "```\n",
        ">> 내가 좋아하는 숫자: 7 \n",
        ">> 내가 좋아하는 숫자는 7 이다.\n",
        "```"
      ],
      "metadata": {
        "id": "107E31VkzTfm"
      }
    },
    {
      "cell_type": "code",
      "source": [
        "my_number = input(\"내가 좋아하는 숫자: \")\n",
        "print(\"내가 좋아하는 숫자는\", my_number, \"이다.\")"
      ],
      "metadata": {
        "id": "Hx0Ag-aAzTfm",
        "colab": {
          "base_uri": "https://localhost:8080/"
        },
        "outputId": "f1b43d14-17da-413c-a8f2-4758222dabaa"
      },
      "execution_count": 33,
      "outputs": [
        {
          "output_type": "stream",
          "name": "stdout",
          "text": [
            "내가 좋아하는 숫자: 7\n",
            "내가 좋아하는 숫자는 7 이다.\n"
          ]
        }
      ]
    },
    {
      "cell_type": "markdown",
      "source": [
        "**예제 04**\n",
        "\n",
        "아래와 같이 코드를 작성하였는데 오류가 떴습니다. 이유를 설명하세요.\n",
        "\n",
        "```\n",
        "my_num = input(\"내가 좋아하는 숫자: \") \n",
        "print(my_num+10)\n",
        "```"
      ],
      "metadata": {
        "id": "optdPkAtzgjt"
      }
    },
    {
      "cell_type": "code",
      "source": [
        "my_num = input(\"내가 좋아하는 숫자: \") \n",
        "print(my_num+10)\n",
        "# my_num에 할당된 값은 문자열 \"7\"이기 때문에 정수 10을 더할수 없다."
      ],
      "metadata": {
        "id": "4ioxaMK0zgjt",
        "colab": {
          "base_uri": "https://localhost:8080/",
          "height": 219
        },
        "outputId": "5eaa0ee6-9945-4997-efd3-2645d05acbe0"
      },
      "execution_count": 34,
      "outputs": [
        {
          "name": "stdout",
          "output_type": "stream",
          "text": [
            "내가 좋아하는 숫자: 7\n"
          ]
        },
        {
          "output_type": "error",
          "ename": "TypeError",
          "evalue": "ignored",
          "traceback": [
            "\u001b[0;31m---------------------------------------------------------------------------\u001b[0m",
            "\u001b[0;31mTypeError\u001b[0m                                 Traceback (most recent call last)",
            "\u001b[0;32m<ipython-input-34-5be186080275>\u001b[0m in \u001b[0;36m<module>\u001b[0;34m\u001b[0m\n\u001b[1;32m      1\u001b[0m \u001b[0mmy_num\u001b[0m \u001b[0;34m=\u001b[0m \u001b[0minput\u001b[0m\u001b[0;34m(\u001b[0m\u001b[0;34m\"내가 좋아하는 숫자: \"\u001b[0m\u001b[0;34m)\u001b[0m\u001b[0;34m\u001b[0m\u001b[0;34m\u001b[0m\u001b[0m\n\u001b[0;32m----> 2\u001b[0;31m \u001b[0mprint\u001b[0m\u001b[0;34m(\u001b[0m\u001b[0mmy_num\u001b[0m\u001b[0;34m+\u001b[0m\u001b[0;36m10\u001b[0m\u001b[0;34m)\u001b[0m\u001b[0;34m\u001b[0m\u001b[0;34m\u001b[0m\u001b[0m\n\u001b[0m",
            "\u001b[0;31mTypeError\u001b[0m: can only concatenate str (not \"int\") to str"
          ]
        }
      ]
    },
    {
      "cell_type": "markdown",
      "source": [
        "**예제 05**\n",
        "\n",
        "화면에 아래 문장을 출력하세요.\n",
        "\n",
        "```\n",
        "nice day!\n",
        "```"
      ],
      "metadata": {
        "id": "BKug_5lN7NAS"
      }
    },
    {
      "cell_type": "code",
      "source": [
        "print('nice day!')"
      ],
      "metadata": {
        "id": "4kuhxl6K8aiO",
        "colab": {
          "base_uri": "https://localhost:8080/"
        },
        "outputId": "b075e1be-3470-4a98-8b12-c4b202ba6220"
      },
      "execution_count": 35,
      "outputs": [
        {
          "output_type": "stream",
          "name": "stdout",
          "text": [
            "nice day!\n"
          ]
        }
      ]
    },
    {
      "cell_type": "markdown",
      "source": [
        "\n",
        "**예제 06**\n",
        "\n",
        "아래 출력이 나오도록 `#코드작성` 부분을 채워 넣으세요  (코드 한줄로 완성하세요) \n",
        "\n",
        "```\n",
        ">> w1 = \"hello\"\n",
        ">> w2 = \"python\"\n",
        ">> w3 = 2\n",
        ">> #코드작성\n",
        ">> hello! python 2\n",
        "```"
      ],
      "metadata": {
        "id": "gqns5it27OZk"
      }
    },
    {
      "cell_type": "code",
      "source": [
        "w1 = \"hello\"\n",
        "w2 = \"python\"\n",
        "w3 = 2\n",
        "print(w1, \"! \", w2, ' ', w3, sep='')"
      ],
      "metadata": {
        "id": "HdB-Ptk58jNc",
        "colab": {
          "base_uri": "https://localhost:8080/"
        },
        "outputId": "815118f8-87b8-43ee-b7b9-59c1439d287f"
      },
      "execution_count": 40,
      "outputs": [
        {
          "output_type": "stream",
          "name": "stdout",
          "text": [
            "hello! python 2\n"
          ]
        }
      ]
    },
    {
      "cell_type": "markdown",
      "source": [
        "**예제 07**\n",
        "\n",
        "아래 출력이 나오도록 `#코드작성` 부분을 채워 넣으세요  (코드 한줄로 완성하세요) \n",
        "\n",
        "```\n",
        ">> w1 = '나의'\n",
        ">> w2 = '살던'\n",
        ">> w3 = '고향은'\n",
        ">> #코드작성\n",
        "나의~살던~고향은~\n",
        "```"
      ],
      "metadata": {
        "id": "ImHI8rZa7Ri2"
      }
    },
    {
      "cell_type": "code",
      "source": [
        "w1 = '나의'\n",
        "w2 = '살던'\n",
        "w3 = '고향은'\n",
        "print(w1, w2, w3, ' ', sep='~') # 방법1\n",
        "print(w1, w2, w3, sep='~', end='~') # 방법2"
      ],
      "metadata": {
        "id": "drP2EGod8jh3",
        "colab": {
          "base_uri": "https://localhost:8080/"
        },
        "outputId": "a13a815d-f655-47b0-b19a-f4cfec299740"
      },
      "execution_count": 44,
      "outputs": [
        {
          "output_type": "stream",
          "name": "stdout",
          "text": [
            "나의~살던~고향은~ \n",
            "나의~살던~고향은~"
          ]
        }
      ]
    },
    {
      "cell_type": "markdown",
      "source": [
        "**예제 08**\n",
        "\n",
        "아래 출력이 나오도록 `#코드작성` 부분을 채워 넣으세요 \n",
        "\n",
        "```\n",
        ">> w1 = '나의'\n",
        ">> w2 = '살던'\n",
        ">> w3 = '고향은'\n",
        ">> print(w1, end=#코드작성)\n",
        ">> print(w2, end=#코드작성)\n",
        ">> print(w3, end=#코드작성)\n",
        "나의 살던 고향은~\n",
        "```"
      ],
      "metadata": {
        "id": "IrIAl7T67TuF"
      }
    },
    {
      "cell_type": "code",
      "source": [
        "w1 = '나의'\n",
        "w2 = '살던'\n",
        "w3 = '고향은'\n",
        "print(w1, end=' ')\n",
        "print(w2, end=' ')\n",
        "print(w3, end='~')"
      ],
      "metadata": {
        "id": "TeaQAuiM8j3T",
        "colab": {
          "base_uri": "https://localhost:8080/"
        },
        "outputId": "623ffaba-01dd-4219-facc-758a0f59f3cb"
      },
      "execution_count": 45,
      "outputs": [
        {
          "output_type": "stream",
          "name": "stdout",
          "text": [
            "나의 살던 고향은~"
          ]
        }
      ]
    },
    {
      "cell_type": "markdown",
      "source": [
        "**예제 09**\n",
        "\n",
        "아래 출력이 나오도록 `#코드작성` 부분을 채워 넣으세요  (코드 한줄로 완성하세요) \n",
        "\n",
        "```\n",
        ">> w1 = '나의'\n",
        ">> w2 = '살던'\n",
        ">> w3 = '고향은'\n",
        ">> #코드작성\n",
        "나의**살던**고향은\n",
        "```\n"
      ],
      "metadata": {
        "id": "-Uw0J0yZ8WC8"
      }
    },
    {
      "cell_type": "code",
      "source": [
        "w1 = '나의'\n",
        "w2 = '살던'\n",
        "w3 = '고향은'\n",
        "print(w1, w2, w3, sep='**')"
      ],
      "metadata": {
        "id": "uxf3akTY8kOg",
        "colab": {
          "base_uri": "https://localhost:8080/"
        },
        "outputId": "14e931da-3d43-43d6-c6c8-ac6b22c00dd2"
      },
      "execution_count": 46,
      "outputs": [
        {
          "output_type": "stream",
          "name": "stdout",
          "text": [
            "나의**살던**고향은\n"
          ]
        }
      ]
    },
    {
      "cell_type": "markdown",
      "source": [
        "**예제 10**\n",
        "\n",
        "아래 출력이 나오도록  `#코드작성` 부분을 채워 넣으세요 (코드 한줄로 완성하세요) \n",
        "\n",
        "```\n",
        ">> w1 = '나의'\n",
        ">> w2 = '살던'\n",
        ">> w3 = '고향은'\n",
        ">> #코드작성\n",
        "나의  \n",
        "살던    \n",
        "고향은  \n",
        "```"
      ],
      "metadata": {
        "id": "2mg9MMwq8W9Y"
      }
    },
    {
      "cell_type": "code",
      "source": [
        "w1 = '나의'\n",
        "w2 = '살던'\n",
        "w3 = '고향은'\n",
        "print(w1, w2, w3, sep='\\n')"
      ],
      "metadata": {
        "id": "AVd52M5n8kkS",
        "colab": {
          "base_uri": "https://localhost:8080/"
        },
        "outputId": "ea49a5b5-59e2-4545-fbd5-31150d34229f"
      },
      "execution_count": 47,
      "outputs": [
        {
          "output_type": "stream",
          "name": "stdout",
          "text": [
            "나의\n",
            "살던\n",
            "고향은\n"
          ]
        }
      ]
    },
    {
      "cell_type": "markdown",
      "source": [
        "**예제 11**\n",
        "\n",
        "아래 코드의 결과를 예측하고 그 이유를 해설하세요\n",
        "\n",
        "```\n",
        "print('hello python\")\n",
        "```\n"
      ],
      "metadata": {
        "id": "HtnfpWOF8YV_"
      }
    },
    {
      "cell_type": "code",
      "source": [
        "# 오류가 날것이다. 작은따음표로 시작하고 큰따음표로 끝나서\n",
        "print('hello python\")"
      ],
      "metadata": {
        "id": "FrRPaGaGj2qd",
        "colab": {
          "base_uri": "https://localhost:8080/",
          "height": 142
        },
        "outputId": "425835f3-6f7f-4363-a220-c7159fff39d7"
      },
      "execution_count": 48,
      "outputs": [
        {
          "output_type": "error",
          "ename": "SyntaxError",
          "evalue": "ignored",
          "traceback": [
            "\u001b[0;36m  File \u001b[0;32m\"<ipython-input-48-9dfd60711cb9>\"\u001b[0;36m, line \u001b[0;32m2\u001b[0m\n\u001b[0;31m    print('hello python\")\u001b[0m\n\u001b[0m                         ^\u001b[0m\n\u001b[0;31mSyntaxError\u001b[0m\u001b[0;31m:\u001b[0m EOL while scanning string literal\n"
          ]
        }
      ]
    },
    {
      "cell_type": "markdown",
      "source": [
        "**예제 12**\n",
        "\n",
        "아래와 같이 이름과 나이를 `input()`으로 받고 소개글을 출력하는 코드를 작성하세요\n",
        "\n",
        "```\n",
        ">> 이름 : 홍길동\n",
        ">> 나이: 20\n",
        "반갑습니다. 20살 홍길동 이라고 합니다. 잘 부탁드립니다!\n",
        "```"
      ],
      "metadata": {
        "id": "ZGtma_5Ej210"
      }
    },
    {
      "cell_type": "code",
      "source": [
        "name = input(\"이름:\")\n",
        "age = input(\"나이:\")\n",
        "print(\"반갑습니다. \", age, \"살 \" , name, \" 이라고 합니다. 잘 부탁드립니다!\", sep='')"
      ],
      "metadata": {
        "id": "qEfBFeNRj9ho",
        "colab": {
          "base_uri": "https://localhost:8080/"
        },
        "outputId": "b8fd784c-3d3c-428c-b62c-2a714d1b1cd2"
      },
      "execution_count": 51,
      "outputs": [
        {
          "output_type": "stream",
          "name": "stdout",
          "text": [
            "이름:홍길동\n",
            "나이:20\n",
            "반갑습니다. 20살 홍길동 이라고 합니다. 잘 부탁드립니다!\n"
          ]
        }
      ]
    },
    {
      "cell_type": "markdown",
      "source": [
        "**예제 13**\n",
        "\n",
        "아래와 같이 특정 메뉴를 고르는 코드를 작성하세요\n",
        "\n",
        "```\n",
        ">> 아메리카노    라떼   에스프레소\n",
        ">> 메뉴를 선택하세요 : 라떼\n",
        "라떼를 선택하였습니다.\n",
        "```\n"
      ],
      "metadata": {
        "id": "jXwMlnnAj9uz"
      }
    },
    {
      "cell_type": "code",
      "source": [
        "print(\"아메리카노    라떼   에스프레소\")\n",
        "menu = input(\"메뉴를 선택하세요 : \")\n",
        "print(menu, '를 선택하였습니다.', sep='')"
      ],
      "metadata": {
        "id": "nK_NWWQ8kAPZ",
        "colab": {
          "base_uri": "https://localhost:8080/"
        },
        "outputId": "64f0ef76-4fa0-44b4-d37e-3fcb8ae1cdfd"
      },
      "execution_count": 52,
      "outputs": [
        {
          "output_type": "stream",
          "name": "stdout",
          "text": [
            "아메리카노    라떼   에스프레소\n",
            "메뉴를 선택하세요 : 라떼\n",
            "라떼를 선택하였습니다.\n"
          ]
        }
      ]
    },
    {
      "cell_type": "markdown",
      "source": [
        "\n",
        "**예제 14**\n",
        "\n",
        "아래와 같이 휴대폰 번호를 입력하면 전체 번호를 출력하는 코드를 작성하세요\n",
        "\n",
        "```\n",
        ">> 휴대폰 앞자리 : 010\n",
        ">> 휴대폰 중간자리: 1111\n",
        ">> 휴대폰 뒷자리: 1111\n",
        "제 번호는 010-1111-1111 입니다.\n",
        "```\n"
      ],
      "metadata": {
        "id": "QnVuK29mkBfo"
      }
    },
    {
      "cell_type": "code",
      "source": [
        "p1 = input(\"휴대폰 앞자리 : \")\n",
        "p2 = input(\"휴대폰 중간자리 : \")\n",
        "p3 = input(\"휴대폰 뒷자리 : \")\n",
        "print(\"제 번호는 \", p1,'-',p2,'-',p3,' 입니다.', sep='')"
      ],
      "metadata": {
        "id": "MTF9BCKnkGFN",
        "colab": {
          "base_uri": "https://localhost:8080/"
        },
        "outputId": "eb07387b-0fb0-4d9e-da99-c73bab56e48e"
      },
      "execution_count": 53,
      "outputs": [
        {
          "output_type": "stream",
          "name": "stdout",
          "text": [
            "휴대폰 앞자리 : 010\n",
            "휴대폰 중간자리 : 1111\n",
            "휴대폰 뒷자리 : 1111\n",
            "제 번호는 010-1111-1111 입니다.\n"
          ]
        }
      ]
    },
    {
      "cell_type": "markdown",
      "source": [
        "**예제 15**\n",
        "\n",
        "아래와 같이 두개의 값을 받아서 더하고 뺀 값을 알려주는 코드를 작성하세요\n",
        "\n",
        "```\n",
        ">> 첫번째 숫자를 입력하세요: 2\n",
        ">> 두번째 숫자를 입력하세요: 3\n",
        "두개의 숫자를 더한 값은 5 이고 뺀값은 -1 입니다.\n",
        "```"
      ],
      "metadata": {
        "id": "2h4D1hI1kIn-"
      }
    },
    {
      "cell_type": "code",
      "source": [
        "n1 = input(\"첫번째 숫자를 입력하세요 : \")\n",
        "n2 = input(\"두번째 숫자를 입력하세요 : \")\n",
        "ns = int(n1)+int(n2)\n",
        "nd = int(n1)-int(n2)\n",
        "print(\"두개의 숫자를 더한 값은 \", ns, \"이고 뺀값은\" , nd, \"입니다.\")"
      ],
      "metadata": {
        "id": "zeG6ZZfqnuSM",
        "colab": {
          "base_uri": "https://localhost:8080/"
        },
        "outputId": "7f04f90d-4236-4b08-9a9b-a263b98482c3"
      },
      "execution_count": 54,
      "outputs": [
        {
          "output_type": "stream",
          "name": "stdout",
          "text": [
            "첫번째 숫자를 입력하세요 : 2\n",
            "두번째 숫자를 입력하세요 : 3\n",
            "두개의 숫자를 더한 값은  5 이고 뺀값은 -1 입니다.\n"
          ]
        }
      ]
    },
    {
      "cell_type": "code",
      "source": [],
      "metadata": {
        "id": "RohZ_VMX9cVS"
      },
      "execution_count": null,
      "outputs": []
    }
  ]
}