{
  "nbformat": 4,
  "nbformat_minor": 0,
  "metadata": {
    "colab": {
      "name": "2-3.파이썬의 자료형:리스트.ipynb",
      "provenance": [],
      "authorship_tag": "ABX9TyMBMsVR3c14JmIOT17uMb0f",
      "include_colab_link": true
    },
    "kernelspec": {
      "name": "python3",
      "display_name": "Python 3"
    },
    "language_info": {
      "name": "python"
    }
  },
  "cells": [
    {
      "cell_type": "markdown",
      "metadata": {
        "id": "view-in-github",
        "colab_type": "text"
      },
      "source": [
        "<a href=\"https://colab.research.google.com/github/yebiny/SkillTreePython/blob/main/%ED%95%B4%EC%84%A4/2_3_%ED%8C%8C%EC%9D%B4%EC%8D%AC%EC%9D%98_%EC%9E%90%EB%A3%8C%ED%98%95_%EB%A6%AC%EC%8A%A4%ED%8A%B8.ipynb\" target=\"_parent\"><img src=\"https://colab.research.google.com/assets/colab-badge.svg\" alt=\"Open In Colab\"/></a>"
      ]
    },
    {
      "cell_type": "markdown",
      "source": [
        "# 2-3.파이썬의 자료형:리스트\n",
        "---\n",
        "* 날짜:\n",
        "* 이름: 윤예빈"
      ],
      "metadata": {
        "id": "kB5IciXEm6o4"
      }
    },
    {
      "cell_type": "markdown",
      "source": [
        "## 개념정리\n",
        "---\n",
        "\n",
        "리스트 자료형은 파이썬의 다양한 군집자료형 중의 하나입니다."
      ],
      "metadata": {
        "id": "4iN8NFzHRJ2D"
      }
    },
    {
      "cell_type": "markdown",
      "source": [
        "### (1) 생성\n"
      ],
      "metadata": {
        "id": "MAM8MDnfw68b"
      }
    },
    {
      "cell_type": "markdown",
      "source": [
        "* `[ ]` 기호를 통해 빈 리스트를 생성합니다.\n",
        "\n",
        "```\n",
        "a = []\n",
        "print(a, type(a) )\n",
        "```\n",
        "\n",
        "\n",
        "\n",
        "\n",
        "\n"
      ],
      "metadata": {
        "id": "UKlkHH0IRL5h"
      }
    },
    {
      "cell_type": "code",
      "source": [
        "#a = []\n",
        "a = '123' # 문자열 \n",
        "a = list(a) # 문자열 -> 리스트\n",
        "print(a, type(a))"
      ],
      "metadata": {
        "id": "6UKRU-Uvw2YB",
        "outputId": "59d6b328-212e-4e6e-fcd3-5d1ecfeb234f",
        "colab": {
          "base_uri": "https://localhost:8080/"
        }
      },
      "execution_count": 38,
      "outputs": [
        {
          "output_type": "stream",
          "name": "stdout",
          "text": [
            "['1', '2', '3'] <class 'list'>\n"
          ]
        }
      ]
    },
    {
      "cell_type": "markdown",
      "source": [
        "#### **리스트의 요소**\n",
        "\n",
        "리스트의 요소는 문자열 뿐만 아니라 또 다른 리스트, 수치 자료형 등 다양한 요소들을 포함할 수 있습니다. 리스트 안의 요소들은 통일 하지 않아도 유효합니다.\n",
        "\n",
        "```\n",
        "a = [1, \"a\", True, [1,2,3]]\n",
        "print(a, type(a))\n",
        "```"
      ],
      "metadata": {
        "id": "-YRAYwSTw84i"
      }
    },
    {
      "cell_type": "code",
      "source": [
        "a = [1, \"a\", True, [1,2,3]]\n",
        "print(a, type(a))"
      ],
      "metadata": {
        "id": "bjRDe1Jjw_Lp",
        "outputId": "4c63159d-bc80-4edb-b67a-02e5c2e21e73",
        "colab": {
          "base_uri": "https://localhost:8080/"
        }
      },
      "execution_count": 39,
      "outputs": [
        {
          "output_type": "stream",
          "name": "stdout",
          "text": [
            "[1, 'a', True, [1, 2, 3]] <class 'list'>\n"
          ]
        }
      ]
    },
    {
      "cell_type": "markdown",
      "source": [
        "### (2) 수정과 삭제\n",
        "\n",
        "리스트의 값을 수정하거나 삭제할 수 있습니다.\n",
        "\n"
      ],
      "metadata": {
        "id": "MSdELflJxC6Z"
      }
    },
    {
      "cell_type": "markdown",
      "source": [
        "#### **수정**\n",
        "\n",
        "```\n",
        "a = [1,2,3,4]\n",
        "a[0] = \"a\"\n",
        "print(a)\n",
        "```"
      ],
      "metadata": {
        "id": "yCHmayZ4xIhY"
      }
    },
    {
      "cell_type": "code",
      "source": [
        "# 수정과 삭제는 인덱싱을 기반으로 한다.\n",
        "a = [1,2,3,4]\n",
        "a[0] = 'a' # a의 첫번째 요소 1을 'a' 로 변경\n",
        "print(a)"
      ],
      "metadata": {
        "id": "x-m2MhD0xAoi",
        "outputId": "4fb38eb4-f913-4104-c76f-e157bccfcca5",
        "colab": {
          "base_uri": "https://localhost:8080/"
        }
      },
      "execution_count": 40,
      "outputs": [
        {
          "output_type": "stream",
          "name": "stdout",
          "text": [
            "['a', 2, 3, 4]\n"
          ]
        }
      ]
    },
    {
      "cell_type": "markdown",
      "source": [
        "#### **삭제**\n",
        "\n",
        "\n",
        "```\n",
        "a = [1,2,3,4]\n",
        "del a[0]\n",
        "print(a)\n",
        "```\n"
      ],
      "metadata": {
        "id": "1RHkw6tVxKNi"
      }
    },
    {
      "cell_type": "code",
      "source": [
        "a = [1,2,3,4]\n",
        "del a[0] # a의 첫번째 요소 1을 삭제\n",
        "print(a)"
      ],
      "metadata": {
        "id": "lWVjQHe7xMxu",
        "outputId": "6bebd960-8d7e-44ab-f661-0b2a7b083735",
        "colab": {
          "base_uri": "https://localhost:8080/"
        }
      },
      "execution_count": 41,
      "outputs": [
        {
          "output_type": "stream",
          "name": "stdout",
          "text": [
            "[2, 3, 4]\n"
          ]
        }
      ]
    },
    {
      "cell_type": "markdown",
      "source": [
        "\n",
        "### (3) 인덱싱과 슬라이싱\n",
        "\n",
        "앞서 문자열 자료형에서 이미 한 것과 마찬가지로 인덱싱과 슬라이싱 기능을 사용할 수 있습니다. 인덱싱과 슬라이싱에 사용되는 방식은 문자열 자료형과 동일합니다.\n"
      ],
      "metadata": {
        "id": "FTjQm5R9xQES"
      }
    },
    {
      "cell_type": "markdown",
      "source": [
        "\n",
        "#### **인덱싱**\n",
        "\n",
        "```\n",
        "a = [1,2,3,4,5]\n",
        "print(a[0]) # 인덱싱\n",
        "```\n"
      ],
      "metadata": {
        "id": "NCTA1LtHxPb2"
      }
    },
    {
      "cell_type": "code",
      "source": [],
      "metadata": {
        "id": "oJbf8dNCxUtz"
      },
      "execution_count": 41,
      "outputs": []
    },
    {
      "cell_type": "markdown",
      "source": [
        "\n",
        "#### **슬라이싱**\n",
        "\n",
        "```\n",
        "print(a[:2]) # 슬라이싱\n",
        "```\n"
      ],
      "metadata": {
        "id": "IZWvcVEuxT17"
      }
    },
    {
      "cell_type": "code",
      "source": [],
      "metadata": {
        "id": "hTN9WKApxYgW"
      },
      "execution_count": 41,
      "outputs": []
    },
    {
      "cell_type": "markdown",
      "source": [
        "### (4) 리스트의 연산\n",
        "\n",
        "리스트의 연산은 `+`(더하기)와 `*`(곱하기) 만 사용할 수 있습니다. 이 때 더하기는 리스트끼리의 덧셈만 가능하며, 곱하기는 리스트와 정수값의 곱만 가능함을 주의해야 합니다. 리스트끼리의 덧셈 결과는 두 리스트를 이어 붙인 리스트가 되고 리스트와 정수의 곱은 리스트의 정수크기만큼 이어붙인 리스트가 됩니다.\n",
        "\n",
        "연산을 위해 아래와 같이 변수를 정의합시다.\n",
        "\n",
        "```\n",
        "a = [1,2,3,4,5]\n",
        "b = [6,7,8,9,10]\n",
        "c = 3\n",
        "```\n"
      ],
      "metadata": {
        "id": "oAGI3wesxbPQ"
      }
    },
    {
      "cell_type": "code",
      "source": [
        "a = [1,2,3,4,5]\n",
        "b = [6,7,8,9,10]\n",
        "c = 3"
      ],
      "metadata": {
        "id": "P3tgi66wTLUC"
      },
      "execution_count": 42,
      "outputs": []
    },
    {
      "cell_type": "markdown",
      "source": [
        "#### **더하기**\n",
        "\n",
        "리스트와 리스트를 덧셈(+) 기호를 이용해 이어 붙일 수 있습니다. 실제 리스트 요소간의 덧셈이 아님을 유의합니다.\n",
        "\n",
        "\n",
        "```\n",
        "print(a+b) \n",
        "```"
      ],
      "metadata": {
        "id": "6I4qd2rvxc2a"
      }
    },
    {
      "cell_type": "code",
      "source": [
        "a+b # 하나의 리스트로 연결"
      ],
      "metadata": {
        "id": "Hne6R5ljxZCi",
        "outputId": "bd7184be-927b-4a71-e985-7c927743c462",
        "colab": {
          "base_uri": "https://localhost:8080/"
        }
      },
      "execution_count": 43,
      "outputs": [
        {
          "output_type": "execute_result",
          "data": {
            "text/plain": [
              "[1, 2, 3, 4, 5, 6, 7, 8, 9, 10]"
            ]
          },
          "metadata": {},
          "execution_count": 43
        }
      ]
    },
    {
      "cell_type": "markdown",
      "source": [
        "#### **곱하기**\n",
        "\n",
        "리스트와 정수 값을 곱셈(*) 기호를 이용해 여러번 반복 합니다. 실제 리스트 요소의 곱셈이 아님을 유의합니다.\n",
        "\n",
        "```\n",
        "print(a*c)\n",
        "```"
      ],
      "metadata": {
        "id": "f9alJe6Bxe-Y"
      }
    },
    {
      "cell_type": "code",
      "source": [
        "a*c # a가 c번 반복, 하나의 리스트로 연결"
      ],
      "metadata": {
        "id": "317mmmOwxgPQ",
        "outputId": "e53b1edf-d515-4d2a-8642-060acb76853e",
        "colab": {
          "base_uri": "https://localhost:8080/"
        }
      },
      "execution_count": 44,
      "outputs": [
        {
          "output_type": "execute_result",
          "data": {
            "text/plain": [
              "[1, 2, 3, 4, 5, 1, 2, 3, 4, 5, 1, 2, 3, 4, 5]"
            ]
          },
          "metadata": {},
          "execution_count": 44
        }
      ]
    },
    {
      "cell_type": "markdown",
      "source": [
        "### (5) 리스트 메소드\n",
        "\n",
        "지난번 문자열 메소드와 마찬가지로 리스트에도 다양한 내장함수 및 메소드가 존재합니다. \n",
        "\n",
        "|| 종류|\n",
        "|--|--|\n",
        "|내장함수| `len()`, `max()`, `min()`, `sum()`, `list()`, `sorted()`|\n",
        "|메소드| `.append()`, `.extend()`, `.count()`, `.index()`, `.insert()`, `.pop()`, `.remove()`, `.reverse()`, `.sort()`\n"
      ],
      "metadata": {
        "id": "L8rS3TL5xki9"
      }
    },
    {
      "cell_type": "markdown",
      "source": [
        "####  **내장함수**\n",
        "\n",
        "함수 사용을 위해 아래와 같은 리스트를 정의합시다.\n",
        "\n",
        "```\n",
        "a = [4,2,1,3]\n",
        "```\n"
      ],
      "metadata": {
        "id": "-ESG0psbxmvd"
      }
    },
    {
      "cell_type": "code",
      "source": [
        "a = [4,2,1,3]"
      ],
      "metadata": {
        "id": "ZRf2VzcdT3iT"
      },
      "execution_count": 45,
      "outputs": []
    },
    {
      "cell_type": "markdown",
      "source": [
        "* `len()`: 길이를 구합니다.\n",
        "\n",
        "```\n",
        "print(len(a))\n",
        "```\n"
      ],
      "metadata": {
        "id": "MdW-sk0VT3rk"
      }
    },
    {
      "cell_type": "code",
      "source": [
        "len(a)"
      ],
      "metadata": {
        "id": "AcjAp6Ukxiyk",
        "colab": {
          "base_uri": "https://localhost:8080/"
        },
        "outputId": "02951623-de9d-4f80-d886-39e55b65fe8d"
      },
      "execution_count": 46,
      "outputs": [
        {
          "output_type": "execute_result",
          "data": {
            "text/plain": [
              "4"
            ]
          },
          "metadata": {},
          "execution_count": 46
        }
      ]
    },
    {
      "cell_type": "markdown",
      "source": [
        "* `max()`: 최대값을 구합니다.\n",
        "\n",
        "```\n",
        "print(max(a))\n",
        "```\n"
      ],
      "metadata": {
        "id": "8kdgoT9lT7Hg"
      }
    },
    {
      "cell_type": "code",
      "source": [],
      "metadata": {
        "id": "sydpBqVTT7OR"
      },
      "execution_count": 46,
      "outputs": []
    },
    {
      "cell_type": "markdown",
      "source": [
        "* `min()`: 최소값을 구합니다.\n",
        "\n",
        "```\n",
        "print(min(a))\n",
        "```\n"
      ],
      "metadata": {
        "id": "VZg-mKCMT_bw"
      }
    },
    {
      "cell_type": "code",
      "source": [],
      "metadata": {
        "id": "OHLkSlKET_kh"
      },
      "execution_count": 46,
      "outputs": []
    },
    {
      "cell_type": "markdown",
      "source": [
        "* `sum()`: 모든값을 더합니다.\n",
        "\n",
        "```\n",
        "print(sum(a))\n",
        "```\n"
      ],
      "metadata": {
        "id": "mKNBwXxkUI6x"
      }
    },
    {
      "cell_type": "code",
      "source": [
        "sum(a)\n",
        "#b = ['1', '2', '3']\n",
        "#sum(b)"
      ],
      "metadata": {
        "id": "34jjXr0AULfp",
        "outputId": "7247e9b5-7bb0-420d-ebd8-9823a9f85c55",
        "colab": {
          "base_uri": "https://localhost:8080/"
        }
      },
      "execution_count": 47,
      "outputs": [
        {
          "output_type": "execute_result",
          "data": {
            "text/plain": [
              "10"
            ]
          },
          "metadata": {},
          "execution_count": 47
        }
      ]
    },
    {
      "cell_type": "markdown",
      "source": [
        "* `sorted()`: 값을 정렬합니다.\n",
        "\n",
        "```\n",
        "print(sorted(a))\n",
        "```"
      ],
      "metadata": {
        "id": "Po1JZjMDUUsC"
      }
    },
    {
      "cell_type": "code",
      "source": [
        "print(sorted(a)) # 오름차순 정렬\n",
        "print(sorted(a, reverse=True)) # 내림차순 정렬"
      ],
      "metadata": {
        "id": "EStm0HiFUayA",
        "outputId": "6e550425-0391-4cca-9fdc-9cc38c2bb6e8",
        "colab": {
          "base_uri": "https://localhost:8080/"
        }
      },
      "execution_count": 48,
      "outputs": [
        {
          "output_type": "stream",
          "name": "stdout",
          "text": [
            "[1, 2, 3, 4]\n",
            "[4, 3, 2, 1]\n"
          ]
        }
      ]
    },
    {
      "cell_type": "markdown",
      "source": [
        "#### **메소드 : 추가**\n",
        "\n",
        "리스트에 요소를 추가하는 기능을 배워봅니다. 메소드 사용을 위해 아래와 같이 리스트를 정의해 봅시다.\n",
        "\n",
        "```\n",
        "a = [1,2,3]\n",
        "```\n",
        "\n"
      ],
      "metadata": {
        "id": "dwO3tPrNxo7h"
      }
    },
    {
      "cell_type": "code",
      "source": [
        "a = [1,2,3]"
      ],
      "metadata": {
        "id": "OEStgOVNUtea"
      },
      "execution_count": 49,
      "outputs": []
    },
    {
      "cell_type": "markdown",
      "source": [
        "\n",
        "* `append(obj)` : obj 추가\n",
        "\n",
        "리스트 `a`에 요소 `4`를 추가해 봅시다. \n",
        "```\n",
        "a.append(4)\n",
        "print(a)\n",
        "```\n",
        "\n"
      ],
      "metadata": {
        "id": "nD6qd8wwUtv5"
      }
    },
    {
      "cell_type": "code",
      "source": [
        "a.append(4) # 바인딩 하지 않음!\n",
        "print(a)"
      ],
      "metadata": {
        "id": "orFtG2_qU7yJ",
        "outputId": "faeb9ef9-4e5a-4e3d-c4f1-fc6742c3abb1",
        "colab": {
          "base_uri": "https://localhost:8080/"
        }
      },
      "execution_count": 50,
      "outputs": [
        {
          "output_type": "stream",
          "name": "stdout",
          "text": [
            "[1, 2, 3, 4]\n"
          ]
        }
      ]
    },
    {
      "cell_type": "markdown",
      "source": [
        "이번엔 요소 `[5]`를 추가해 봅시다. `[5]`는 리스트이긴 하지만 리스트 또한 다른 리스트의 요소로 존재할 수 있습니다.\n",
        "\n",
        "```\n",
        "a.append([5])\n",
        "print(a)\n",
        "```\n"
      ],
      "metadata": {
        "id": "ZIt98S_TU8Fx"
      }
    },
    {
      "cell_type": "code",
      "source": [
        "a.append([5])\n",
        "print(a)"
      ],
      "metadata": {
        "id": "XBNxGsFixsDD",
        "outputId": "18bebfe6-f56a-4fae-cc5b-f6be94ba7246",
        "colab": {
          "base_uri": "https://localhost:8080/"
        }
      },
      "execution_count": 51,
      "outputs": [
        {
          "output_type": "stream",
          "name": "stdout",
          "text": [
            "[1, 2, 3, 4, [5]]\n"
          ]
        }
      ]
    },
    {
      "cell_type": "markdown",
      "source": [
        "* `extend(list)` : list 이어붙이기\n",
        "\n",
        "`append`와 달리 `extend`는 리스트를 이어붙이는 역할을 합니다. 리스트 `[5]`를 이번엔 `extend`를 이용해 추가해 봅시다. \n",
        "\n",
        "```\n",
        "a.extend([5])\n",
        "print(a)\n",
        "```"
      ],
      "metadata": {
        "id": "XdlCt2p2VYQZ"
      }
    },
    {
      "cell_type": "code",
      "source": [
        "a= [1,2,3]\n",
        "a.extend([6]) # entend의 인풋에는 리스트가 들어가야 한다!\n",
        "print(a)\n",
        "b = [1,2,3]\n",
        "b.append([5])\n",
        "print(b)"
      ],
      "metadata": {
        "colab": {
          "base_uri": "https://localhost:8080/"
        },
        "id": "YPzAiDLxMlso",
        "outputId": "ea1b703b-0f24-4d88-ef56-b17242e332c3"
      },
      "execution_count": 52,
      "outputs": [
        {
          "output_type": "stream",
          "name": "stdout",
          "text": [
            "[1, 2, 3, 6]\n",
            "[1, 2, 3, [5]]\n"
          ]
        }
      ]
    },
    {
      "cell_type": "markdown",
      "source": [
        "\n",
        "* `.insert(idx, obj)` : idx 위치에 obj를 넣기\n",
        "\n",
        "리스트 `a`의 0번째 위치에 0을 넣어봅시다. \n",
        "\n",
        "```\n",
        "a.insert(0, 0)\n",
        "print(a)\n",
        "```\n",
        "\n"
      ],
      "metadata": {
        "id": "d0zqLIGxV2Sq"
      }
    },
    {
      "cell_type": "code",
      "source": [
        "a = [1,2,3]\n",
        "a.insert(0, 0) # 0번째 위치에 0을 추가\n",
        "a.insert(3,100) # 3번째 위치에 100을 추가\n",
        "a"
      ],
      "metadata": {
        "colab": {
          "base_uri": "https://localhost:8080/"
        },
        "id": "Yb0OicduM1iO",
        "outputId": "068c34f0-9d43-456c-dbfc-5f9eadd6d146"
      },
      "execution_count": 53,
      "outputs": [
        {
          "output_type": "execute_result",
          "data": {
            "text/plain": [
              "[0, 1, 2, 100, 3]"
            ]
          },
          "metadata": {},
          "execution_count": 53
        }
      ]
    },
    {
      "cell_type": "markdown",
      "source": [
        "* Q) 2와 3사이에 1.5를 넣어봅시다."
      ],
      "metadata": {
        "id": "yExklfu5WdYp"
      }
    },
    {
      "cell_type": "code",
      "source": [
        "a = [1,2,3]\n",
        "a.insert(2, 1.5)\n",
        "print(a)"
      ],
      "metadata": {
        "id": "Ht7uFGuBM_x2",
        "outputId": "74a71b3c-2b05-4252-89e3-d3a314b85df1",
        "colab": {
          "base_uri": "https://localhost:8080/"
        }
      },
      "execution_count": 54,
      "outputs": [
        {
          "output_type": "stream",
          "name": "stdout",
          "text": [
            "[1, 2, 1.5, 3]\n"
          ]
        }
      ]
    },
    {
      "cell_type": "markdown",
      "source": [
        "#### **메소드: 제거**\n",
        "\n",
        "리스트에 요소 추가를 했다면 제거하는 메소드도 존재합니다. 메소드 사용을 위해 아래와 같이 리스트를 정의합니다.\n",
        "\n",
        "```\n",
        "a = [1,2,3,2,5]\n",
        "```\n",
        "\n"
      ],
      "metadata": {
        "id": "wbYoRsLHx1JU"
      }
    },
    {
      "cell_type": "code",
      "source": [
        "a = [1,2,3,2,5]"
      ],
      "metadata": {
        "id": "oD5pRLSFXJz5"
      },
      "execution_count": 55,
      "outputs": []
    },
    {
      "cell_type": "markdown",
      "source": [
        "* `remove(obj)` : obj 제거 (중복시 앞순서부터 제거)\n",
        "\n",
        "리스트에서 1을 제거해 봅시다.\n",
        "\n",
        "```\n",
        "a.remove(1)\n",
        "print(a)\n",
        "```"
      ],
      "metadata": {
        "id": "i2Tza8WyXKB6"
      }
    },
    {
      "cell_type": "code",
      "source": [
        "# del : 인덱싱을 알아야 한다.\n",
        "a.remove(1) # a 에서 요소 1을 지운다.\n",
        "print(a)"
      ],
      "metadata": {
        "id": "J51ImmkWxxNR",
        "outputId": "a3fe0092-3165-46d8-8693-78f54147ff90",
        "colab": {
          "base_uri": "https://localhost:8080/"
        }
      },
      "execution_count": 56,
      "outputs": [
        {
          "output_type": "stream",
          "name": "stdout",
          "text": [
            "[2, 3, 2, 5]\n"
          ]
        }
      ]
    },
    {
      "cell_type": "markdown",
      "source": [
        "이번엔 2를 제거해 봅시다. 리스트 안에 2는 두개가 존재합니다. 어떤값이 지워질까요?\n",
        "\n",
        "```\n",
        "a.remove(2)\n",
        "print(a)\n",
        "```"
      ],
      "metadata": {
        "id": "cwE5OWK-XUbR"
      }
    },
    {
      "cell_type": "code",
      "source": [
        "a.remove(2) # 중복일 시 첫번째 요소부터 제거된다.\n",
        "print(a)"
      ],
      "metadata": {
        "id": "-8H_XibiXcVx",
        "outputId": "9617cabd-18e3-4d74-efc8-170cf017d001",
        "colab": {
          "base_uri": "https://localhost:8080/"
        }
      },
      "execution_count": 57,
      "outputs": [
        {
          "output_type": "stream",
          "name": "stdout",
          "text": [
            "[3, 2, 5]\n"
          ]
        }
      ]
    },
    {
      "cell_type": "markdown",
      "source": [
        "* `pop()` : 마지막 요소제거\n",
        "\n",
        "\n",
        "```\n",
        "a.pop()\n",
        "print(a)\n",
        "```"
      ],
      "metadata": {
        "id": "meuOE0NXXNEh"
      }
    },
    {
      "cell_type": "code",
      "source": [
        "a = [3,2,5]\n",
        "a.pop()\n",
        "print(a)"
      ],
      "metadata": {
        "id": "s40EvGRKOncR",
        "outputId": "4d399877-23bf-4a26-bc56-a6b6eb34b932",
        "colab": {
          "base_uri": "https://localhost:8080/"
        }
      },
      "execution_count": 58,
      "outputs": [
        {
          "output_type": "stream",
          "name": "stdout",
          "text": [
            "[3, 2]\n"
          ]
        }
      ]
    },
    {
      "cell_type": "markdown",
      "source": [
        "#### **메소드: 기타**\n",
        "\n",
        "또 다른 유용한 메소드에 관해 알아봅시다. 아래와 같이 리스트를 정의합니다.\n",
        "\n",
        "```\n",
        "a = [2,2,1,3,3,3]\n",
        "```\n"
      ],
      "metadata": {
        "id": "6pUP1VVvx5Ai"
      }
    },
    {
      "cell_type": "code",
      "source": [
        "a = [2,2,1,3,3,3]"
      ],
      "metadata": {
        "id": "TWumDY44YpBi"
      },
      "execution_count": 59,
      "outputs": []
    },
    {
      "cell_type": "markdown",
      "source": [
        "\n",
        "* `count(obj)` : obj 개수 카운트\n",
        "\n",
        "리스트 안에 3이 몇개 있는지 알아봅시다.\n",
        "\n",
        "```\n",
        "a.count(3)\n",
        "```"
      ],
      "metadata": {
        "id": "aIpWJhymYpMy"
      }
    },
    {
      "cell_type": "code",
      "source": [
        "a.count(3)"
      ],
      "metadata": {
        "id": "RYMGWumOYv8a",
        "outputId": "cfd8af1b-6015-4a8c-e475-a3969310ebff",
        "colab": {
          "base_uri": "https://localhost:8080/"
        }
      },
      "execution_count": 60,
      "outputs": [
        {
          "output_type": "execute_result",
          "data": {
            "text/plain": [
              "3"
            ]
          },
          "metadata": {},
          "execution_count": 60
        }
      ]
    },
    {
      "cell_type": "markdown",
      "source": [
        "* `index(obj)` : obj 위치 인덱싱 (중복시 앞순서부터)\n",
        "\n",
        "특정 요소가 몇번째에 위치해 있는지를 알려줍시다. 리스트에서 1은 2번째 인덱스를 가지고 있네요. 메소드를 이용해 같은 값이 나오는지 확인해 봅시다. \n",
        "\n",
        "```\n",
        "a.index(1)\n",
        "```"
      ],
      "metadata": {
        "id": "btUaEjvBYwK6"
      }
    },
    {
      "cell_type": "code",
      "source": [
        "a.index(1) # 요소 1의 인덱스 값을 호출"
      ],
      "metadata": {
        "id": "scDR3WfVZGXK",
        "outputId": "2a9bdf9a-dec8-449d-bdff-bbf2a9732678",
        "colab": {
          "base_uri": "https://localhost:8080/"
        }
      },
      "execution_count": 61,
      "outputs": [
        {
          "output_type": "execute_result",
          "data": {
            "text/plain": [
              "2"
            ]
          },
          "metadata": {},
          "execution_count": 61
        }
      ]
    },
    {
      "cell_type": "markdown",
      "source": [
        "중복시 가장 빠른 요소의 인덱스만을 반환함을 유의하세요.\n",
        "\n",
        "```\n",
        "a.index(3)\n",
        "```"
      ],
      "metadata": {
        "id": "9tURmZfHZHZy"
      }
    },
    {
      "cell_type": "code",
      "source": [
        "a.index(3) # 요소 3은 인덱스 3, 4, 5에 존재. 그 중 가장 빠른 3이 호출"
      ],
      "metadata": {
        "id": "JTYHhGLiZNkC",
        "outputId": "427ee615-07ef-40a9-94b7-5295e1ac9fd1",
        "colab": {
          "base_uri": "https://localhost:8080/"
        }
      },
      "execution_count": 62,
      "outputs": [
        {
          "output_type": "execute_result",
          "data": {
            "text/plain": [
              "3"
            ]
          },
          "metadata": {},
          "execution_count": 62
        }
      ]
    },
    {
      "cell_type": "markdown",
      "source": [
        "* `reverse()`: 리스트 거꾸로 반환\n",
        "\n",
        "```\n",
        "a.reverse()\n",
        "print(a)\n",
        "```"
      ],
      "metadata": {
        "id": "YMlsxsgsYeui"
      }
    },
    {
      "cell_type": "code",
      "source": [
        "print(a)\n",
        "a.reverse()\n",
        "print(a)\n",
        "a = a[::-1]\n",
        "print(a)"
      ],
      "metadata": {
        "id": "NTtbXHSwx3YM",
        "outputId": "5cdf3420-413b-492c-cc33-3c7e6dc4731a",
        "colab": {
          "base_uri": "https://localhost:8080/"
        }
      },
      "execution_count": 63,
      "outputs": [
        {
          "output_type": "stream",
          "name": "stdout",
          "text": [
            "[2, 2, 1, 3, 3, 3]\n",
            "[3, 3, 3, 1, 2, 2]\n",
            "[2, 2, 1, 3, 3, 3]\n"
          ]
        }
      ]
    },
    {
      "cell_type": "markdown",
      "source": [
        "* `sort()`: 리스트 정렬\n",
        "\n",
        "```\n",
        "a.sort()\n",
        "print(a)\n",
        "```"
      ],
      "metadata": {
        "id": "r_UTr3plZPms"
      }
    },
    {
      "cell_type": "code",
      "source": [
        "print(a)\n",
        "a.sort() # 기본적으로 오름차순\n",
        "print(a)"
      ],
      "metadata": {
        "id": "JBevkTM1Px8P",
        "outputId": "c2709f91-bbd6-4e8e-c33f-6488e24d4775",
        "colab": {
          "base_uri": "https://localhost:8080/"
        }
      },
      "execution_count": 64,
      "outputs": [
        {
          "output_type": "stream",
          "name": "stdout",
          "text": [
            "[2, 2, 1, 3, 3, 3]\n",
            "[1, 2, 2, 3, 3, 3]\n"
          ]
        }
      ]
    },
    {
      "cell_type": "code",
      "source": [
        "a.sort(reverse=True)\n",
        "print(a)"
      ],
      "metadata": {
        "id": "0-GrWLx7YhoF",
        "outputId": "960328b9-ad64-4bea-819c-4ad52b36f3e8",
        "colab": {
          "base_uri": "https://localhost:8080/"
        }
      },
      "execution_count": 65,
      "outputs": [
        {
          "output_type": "stream",
          "name": "stdout",
          "text": [
            "[3, 3, 3, 2, 2, 1]\n"
          ]
        }
      ]
    },
    {
      "cell_type": "markdown",
      "source": [
        "### (6) 다중리스트\n",
        "\n",
        "리스트 안에 리스트가 존재할 수 있습니다. 복잡한 리스트 이더라도 특정 요소에 접근이 가능해야 합니다. \n",
        "\n",
        "앞서 배운대로 `a[0]`과 `a[1]`에 해당하는 요소는 무엇일까요? 생각해보고 코드를 작성해 확인해 봅시다.\n",
        "\n",
        "```\n",
        "a = [[1,2,3], [4,5,6]]\n",
        "a[0], a[1]\n",
        "```\n"
      ],
      "metadata": {
        "id": "J0IbBer2x9uS"
      }
    },
    {
      "cell_type": "code",
      "source": [
        "a = [[1,2,3], [4,5,6]]\n",
        "print(a[0], type(a[0])) # 값:    타입: \n",
        "print(a[1], type(a[1])) # 값:    타입:"
      ],
      "metadata": {
        "id": "0lajZYAWyAqd",
        "outputId": "37fd2b8a-cc67-4ab6-ab12-eb7daf402698",
        "colab": {
          "base_uri": "https://localhost:8080/"
        }
      },
      "execution_count": 66,
      "outputs": [
        {
          "output_type": "stream",
          "name": "stdout",
          "text": [
            "[1, 2, 3] <class 'list'>\n",
            "[4, 5, 6] <class 'list'>\n"
          ]
        }
      ]
    },
    {
      "cell_type": "markdown",
      "source": [
        "\n",
        "a[0]과 a[1] 자체가 하나의 리스트 입니다. 그렇다면 각 리스트에 다시 인덱싱을 하여 원하는 요소를 얻을 수 있겠네요. 3과 4를 아래와 같이 인덱싱 할 수 있습니다.\n",
        "\n",
        "```\n",
        "a = [[1,2,3], [4,5,6]]\n",
        "a[0][-1], a[1][0]\n",
        "```"
      ],
      "metadata": {
        "id": "pay-DD8Bx__x"
      }
    },
    {
      "cell_type": "code",
      "source": [
        "a = [[1,2,3], [4,5,6]]\n",
        "print(a[0][-1]) # \n",
        "print(a[1][0] ) #"
      ],
      "metadata": {
        "id": "ZI01D1Yfx7_5",
        "outputId": "3d182e34-53fe-492a-8d0a-8cc0f823d450",
        "colab": {
          "base_uri": "https://localhost:8080/"
        }
      },
      "execution_count": 67,
      "outputs": [
        {
          "output_type": "stream",
          "name": "stdout",
          "text": [
            "3\n",
            "4\n"
          ]
        }
      ]
    },
    {
      "cell_type": "markdown",
      "source": [
        "## 문제풀이\n",
        "---\n",
        "\n",
        "**예제 01**\n",
        "\n",
        "과일메뉴가 다음과 같습니다. 리스트로 작성하세요\n",
        "\n",
        "|과일|\n",
        "|--|\n",
        "사과\n",
        "바나나\n",
        "감자\n",
        "메론\n",
        "복숭아\n",
        "딸기\n"
      ],
      "metadata": {
        "id": "10dgCNxtyEOB"
      }
    },
    {
      "cell_type": "code",
      "source": [
        "fruits = ['사과', '바나나', '감자', '메론', '복숭아', '딸기']"
      ],
      "metadata": {
        "id": "WelbZYpXyC1b"
      },
      "execution_count": 68,
      "outputs": []
    },
    {
      "cell_type": "markdown",
      "source": [
        "**예제 02**\n",
        "\n",
        "위에서 만든 리스트에 \"포도\"를 추가하세요\n",
        "\n"
      ],
      "metadata": {
        "id": "DNXAH9h-yKOy"
      }
    },
    {
      "cell_type": "code",
      "source": [
        "fruits.append('포도')\n",
        "print(fruits)"
      ],
      "metadata": {
        "id": "R0TMuejgyKeB",
        "outputId": "a5715bea-472f-4ca2-cd2f-cc243f97f623",
        "colab": {
          "base_uri": "https://localhost:8080/"
        }
      },
      "execution_count": 69,
      "outputs": [
        {
          "output_type": "stream",
          "name": "stdout",
          "text": [
            "['사과', '바나나', '감자', '메론', '복숭아', '딸기', '포도']\n"
          ]
        }
      ]
    },
    {
      "cell_type": "markdown",
      "source": [
        "**예제 03**\n",
        "\n",
        "\"감자\"가 잘못 들어가 있었습니다. \"감자\"를 삭제하세요\n"
      ],
      "metadata": {
        "id": "9LxnIJV_yNPZ"
      }
    },
    {
      "cell_type": "code",
      "source": [
        "fruits.remove('감자')\n",
        "print(fruits)"
      ],
      "metadata": {
        "id": "tcyCWxxHyNcR",
        "outputId": "e2f7915a-c85b-45c6-809e-599579d2505f",
        "colab": {
          "base_uri": "https://localhost:8080/"
        }
      },
      "execution_count": 70,
      "outputs": [
        {
          "output_type": "stream",
          "name": "stdout",
          "text": [
            "['사과', '바나나', '메론', '복숭아', '딸기', '포도']\n"
          ]
        }
      ]
    },
    {
      "cell_type": "markdown",
      "source": [
        "**예제 04**\n",
        "\n",
        "\"복숭아\"와 \"딸기\" 사이에 \"레몬\"을 추가하세요"
      ],
      "metadata": {
        "id": "NtqOdnqNyOVU"
      }
    },
    {
      "cell_type": "code",
      "source": [
        "fruits.insert(4, '레몬')\n",
        "print(fruits)"
      ],
      "metadata": {
        "id": "jUjMe-rCyOj5",
        "outputId": "fa4c7fe9-535c-411c-fd22-4a2a0f6db15d",
        "colab": {
          "base_uri": "https://localhost:8080/"
        }
      },
      "execution_count": 71,
      "outputs": [
        {
          "output_type": "stream",
          "name": "stdout",
          "text": [
            "['사과', '바나나', '메론', '복숭아', '레몬', '딸기', '포도']\n"
          ]
        }
      ]
    },
    {
      "cell_type": "markdown",
      "source": [
        "**예제 05**\n",
        "\n",
        "최종적으로 만든 리스트 순서는 아래와 같습니다. \n",
        "\n",
        "* 리스트 순서: 사과, 바나나, 메론, 복숭아, 레몬, 딸기, 포도\n",
        "\n",
        "사용자가 리스트 안의 과일을 입력하면 입력한 과일이 몇번째에 있는지 알려주는 코드를 작성하세요\n",
        "\n",
        "```\n",
        ">> 0\n",
        "0 번째 과일은 사과 입니다.\n",
        ">>3\n",
        "3 번째 과일은 복숭아 입니다.\n",
        "```"
      ],
      "metadata": {
        "id": "T1ALK6vnyP0V"
      }
    },
    {
      "cell_type": "code",
      "source": [
        "idx=int(input())\n",
        "print(f'{idx} 번째 과일은 {fruits[idx]} 입니다.')"
      ],
      "metadata": {
        "id": "_AYhewpsyQFt",
        "outputId": "afa9bf17-5a30-4677-cd3a-7556fd7a093a",
        "colab": {
          "base_uri": "https://localhost:8080/"
        }
      },
      "execution_count": 72,
      "outputs": [
        {
          "output_type": "stream",
          "name": "stdout",
          "text": [
            "0\n",
            "0 번째 과일은 사과 입니다.\n"
          ]
        }
      ]
    },
    {
      "cell_type": "markdown",
      "source": [
        "**예제 06**\n",
        "\n",
        "리스트가 아래와 같이 정의되어 있습니다. `num_list`를 정의하세요\n",
        "\n",
        "```\n",
        "num_list = [1,2,3,4,5,6,7,8,9,10]\n",
        "```\n"
      ],
      "metadata": {
        "id": "YUaU-1pfyRUC"
      }
    },
    {
      "cell_type": "code",
      "source": [
        "num_list = [1,2,3,4,5,6,7,8,9,10]"
      ],
      "metadata": {
        "id": "Xqcfar_hySO1"
      },
      "execution_count": 73,
      "outputs": []
    },
    {
      "cell_type": "markdown",
      "source": [
        "**예제 07**\n",
        "\n",
        "`num_list` 의 짝수 값만 슬라이싱 해서 `num_list1` 로 바인딩 하고 출력하세요."
      ],
      "metadata": {
        "id": "bH5e_QRmySVB"
      }
    },
    {
      "cell_type": "code",
      "source": [
        "num_list1 = num_list[1::2]\n",
        "print(num_list1)"
      ],
      "metadata": {
        "id": "TEPXLwiryS7Z",
        "outputId": "d9cb30a9-7ead-4219-c75e-a246c7eb2e1c",
        "colab": {
          "base_uri": "https://localhost:8080/"
        }
      },
      "execution_count": 74,
      "outputs": [
        {
          "output_type": "stream",
          "name": "stdout",
          "text": [
            "[2, 4, 6, 8, 10]\n"
          ]
        }
      ]
    },
    {
      "cell_type": "markdown",
      "source": [
        "**예제 08**\n",
        "\n",
        "`num_list` 의 홀수 값만 슬라이싱 해서 `num_list2` 로 바인딩 하고 출력하세요."
      ],
      "metadata": {
        "id": "Jqvl4MAcyTCC"
      }
    },
    {
      "cell_type": "code",
      "source": [
        "num_list2 = num_list[::2]\n",
        "print(num_list2)"
      ],
      "metadata": {
        "id": "KdHo2kBfyUD1",
        "outputId": "e379b9be-7f21-4b99-8b35-2a57f38d1409",
        "colab": {
          "base_uri": "https://localhost:8080/"
        }
      },
      "execution_count": 75,
      "outputs": [
        {
          "output_type": "stream",
          "name": "stdout",
          "text": [
            "[1, 3, 5, 7, 9]\n"
          ]
        }
      ]
    },
    {
      "cell_type": "markdown",
      "source": [
        "**예제 09**\n",
        "\n",
        "`num_list` 의 3의 배수만 슬라이싱 해서 `num_list3` 으로 바인딩 하고 출력하세요.\n"
      ],
      "metadata": {
        "id": "XJxjxXw4yUIn"
      }
    },
    {
      "cell_type": "code",
      "source": [
        "num_list3 = num_list[2::3]\n",
        "print(num_list3)"
      ],
      "metadata": {
        "id": "5D97VwoMyVUZ",
        "outputId": "cc051dd3-085f-4b85-e4c5-c8a484f97e68",
        "colab": {
          "base_uri": "https://localhost:8080/"
        }
      },
      "execution_count": 76,
      "outputs": [
        {
          "output_type": "stream",
          "name": "stdout",
          "text": [
            "[3, 6, 9]\n"
          ]
        }
      ]
    },
    {
      "cell_type": "markdown",
      "source": [
        "**예제 10**\n",
        "\n",
        "`num_list1` 과 `num_list2` 를 합쳐 `num_list4`으로 바인딩하세요"
      ],
      "metadata": {
        "id": "B-QcwLaRyVbR"
      }
    },
    {
      "cell_type": "code",
      "source": [
        "num_list4 = num_list1+num_list2\n",
        "print(num_list4)"
      ],
      "metadata": {
        "id": "uL_e6MSIyWf9",
        "outputId": "125b7647-f9ee-4b11-b1af-2efddc161b86",
        "colab": {
          "base_uri": "https://localhost:8080/"
        }
      },
      "execution_count": 77,
      "outputs": [
        {
          "output_type": "stream",
          "name": "stdout",
          "text": [
            "[2, 4, 6, 8, 10, 1, 3, 5, 7, 9]\n"
          ]
        }
      ]
    },
    {
      "cell_type": "markdown",
      "source": [
        "**예제 11**\n",
        "\n",
        "`num_list4` 을 오름차순으로 정렬하세요"
      ],
      "metadata": {
        "id": "av3wiMDXyWmp"
      }
    },
    {
      "cell_type": "code",
      "source": [
        "num_list4 = sorted(num_list4)\n",
        "print(num_list4)"
      ],
      "metadata": {
        "id": "tZsgqq-ZyXu5",
        "outputId": "f611defa-8013-4309-a28a-a2ab9f3488fc",
        "colab": {
          "base_uri": "https://localhost:8080/"
        }
      },
      "execution_count": 78,
      "outputs": [
        {
          "output_type": "stream",
          "name": "stdout",
          "text": [
            "[1, 2, 3, 4, 5, 6, 7, 8, 9, 10]\n"
          ]
        }
      ]
    },
    {
      "cell_type": "markdown",
      "source": [
        "**예제 12**\n",
        "\n",
        "리스트가 아래와 같이 정의되어 있습니다. 문자열로 바꿔 출력하는 코드를 두 줄만 써서 작성하세요\n",
        "\n",
        "```\n",
        ">> my_list = [\"a\", \"b\", \"c\", \"d\"]\n",
        ">> # 코드작성 (join 사용)\n",
        ">> # 코드작성 (print 사용)\n",
        "a and b and c and d\n",
        "```"
      ],
      "metadata": {
        "id": "cuUqINKNyX0l"
      }
    },
    {
      "cell_type": "code",
      "source": [
        "my_list = [\"a\", \"b\", \"c\", \"d\"]\n",
        "s = ' and '.join(my_list)\n",
        "print(s)"
      ],
      "metadata": {
        "id": "pBc-WbyqyY8L",
        "outputId": "c977b5b7-ebea-4ab3-caf3-6f9b701de44d",
        "colab": {
          "base_uri": "https://localhost:8080/"
        }
      },
      "execution_count": 79,
      "outputs": [
        {
          "output_type": "stream",
          "name": "stdout",
          "text": [
            "a and b and c and d\n"
          ]
        }
      ]
    },
    {
      "cell_type": "markdown",
      "source": [
        "\n",
        "**예제 13**\n",
        "\n",
        "사용자가 문자열을 입력하면 리스트로 변환하는 코드를 작성하세요\n",
        "\n",
        "|예시| 결과|\n",
        "--|--\n",
        "`a,b`| `['a','b']`\n",
        "`a,c,d,f,q`| `['a','c','d','f','q']`\n",
        "`d,c,a,b`| `['d','c','a','b']`"
      ],
      "metadata": {
        "id": "GSJutIluyZDE"
      }
    },
    {
      "cell_type": "code",
      "source": [
        "s = input()\n",
        "l = s.split(',')\n",
        "print(l)"
      ],
      "metadata": {
        "id": "JUBVY2PFyad2",
        "outputId": "b44f782c-0413-43e9-8dfc-d8a3953c842a",
        "colab": {
          "base_uri": "https://localhost:8080/"
        }
      },
      "execution_count": 80,
      "outputs": [
        {
          "output_type": "stream",
          "name": "stdout",
          "text": [
            "a,b\n",
            "['a', 'b']\n"
          ]
        }
      ]
    },
    {
      "cell_type": "markdown",
      "source": [
        "**예제 14**\n",
        "\n",
        "사용자가 문자열을 입력하면 오름차순으로 정렬한 리스트를 출력하는 코드를 작성하세요\n",
        "\n",
        "|예시| 결과|\n",
        "--|--\n",
        "`a,b`| `['a','b']`\n",
        "`a,c,d,f,e`| `['a','c','d','e','f']`\n",
        "`d,c,a,b`| `['a', 'b', 'c', 'd']`"
      ],
      "metadata": {
        "id": "va1QjSuKyajf"
      }
    },
    {
      "cell_type": "code",
      "source": [
        "s = input()\n",
        "l = s.split(',')\n",
        "l.sort() # 혹은 l = sorted(l)\n",
        "print(l)"
      ],
      "metadata": {
        "id": "2GqE1YNfyb6Y",
        "outputId": "89e75ac2-e921-437d-e689-e0a50523f12b",
        "colab": {
          "base_uri": "https://localhost:8080/"
        }
      },
      "execution_count": 81,
      "outputs": [
        {
          "output_type": "stream",
          "name": "stdout",
          "text": [
            "a,b\n",
            "['a', 'b']\n"
          ]
        }
      ]
    },
    {
      "cell_type": "markdown",
      "source": [
        "\n",
        "**예제 15**\n",
        "\n",
        "사용자가 문자열을 입력하면 문자열을 뒤집은 리스트를 출력하는 코드를 작성하세요\n",
        "\n",
        "|예시| 결과|\n",
        "--|--\n",
        "`a,b`| `['b','a']`\n",
        "`a,c,d,f,e`| `['e','f','d','c','a']`\n",
        "`d,c,a,b`| `['b', 'a', 'c', 'd']`"
      ],
      "metadata": {
        "id": "yQydjxf2ycAb"
      }
    },
    {
      "cell_type": "code",
      "source": [
        "s = input()\n",
        "l = s.split(',')\n",
        "l.reverse()\n",
        "print(l)"
      ],
      "metadata": {
        "id": "0XFr13DEyc9M",
        "outputId": "6e426919-53af-4154-cfc5-a97eb2c4960a",
        "colab": {
          "base_uri": "https://localhost:8080/"
        }
      },
      "execution_count": 82,
      "outputs": [
        {
          "output_type": "stream",
          "name": "stdout",
          "text": [
            "a,b\n",
            "['b', 'a']\n"
          ]
        }
      ]
    },
    {
      "cell_type": "markdown",
      "source": [
        "**예제 16**\n",
        "\n",
        "\n",
        "사용자가 문자열을 입력하면 내림차순으로 정렬한 리스트를 출력하는 코드를 작성하세요\n",
        "\n",
        "|예시| 결과|\n",
        "--|--\n",
        "`a,b`| `['b','a']`\n",
        "`a,c,d,f,e`| `['f','e','d','c','a']`\n",
        "`d,c,a.b`| `['d', 'c', 'b', 'a']`"
      ],
      "metadata": {
        "id": "7RtmhPClydCL"
      }
    },
    {
      "cell_type": "code",
      "source": [
        "s = input()\n",
        "l = s.split(',')\n",
        "l.sort(reverse=True) # 혹은 l = sorted(l, reverse=True)\n",
        "print(l)"
      ],
      "metadata": {
        "id": "ZPz3gvrNyeDX",
        "outputId": "095f6a44-4e7b-419e-b09d-39e197152608",
        "colab": {
          "base_uri": "https://localhost:8080/"
        }
      },
      "execution_count": 83,
      "outputs": [
        {
          "output_type": "stream",
          "name": "stdout",
          "text": [
            "a,b\n",
            "['b', 'a']\n"
          ]
        }
      ]
    },
    {
      "cell_type": "markdown",
      "source": [
        "**예제 17**\n",
        "\n",
        "기말고사 점수가 아래와 같습니다. score를 정의하세요\n",
        "\n",
        "```\n",
        "score = [80,20,30,50,20,20,100,90]\n",
        "```\n"
      ],
      "metadata": {
        "id": "CDXGDE6pyeH0"
      }
    },
    {
      "cell_type": "code",
      "source": [
        "score = [80,20,30,50,20,20,100,90]"
      ],
      "metadata": {
        "id": "pnZC_F8KyfJv"
      },
      "execution_count": 84,
      "outputs": []
    },
    {
      "cell_type": "markdown",
      "source": [
        "**예제 18**\n",
        "\n",
        "기말고사 점수의 최저점수와 최고점수를 구하는 코드를 작성하세요"
      ],
      "metadata": {
        "id": "eIHyjLuEyfUE"
      }
    },
    {
      "cell_type": "code",
      "source": [
        "print(f'기말고사 최저 점수는 {min(score)} 입니다.')\n",
        "print(f'기말고사 최고 점수는 {max(score)} 입니다.')"
      ],
      "metadata": {
        "id": "z5Tahx1RygUO",
        "outputId": "db93a085-3575-4d49-a6f0-53809f6ec27a",
        "colab": {
          "base_uri": "https://localhost:8080/"
        }
      },
      "execution_count": 85,
      "outputs": [
        {
          "output_type": "stream",
          "name": "stdout",
          "text": [
            "기말고사 최저 점수는 20 입니다.\n",
            "기말고사 최고 점수는 100 입니다.\n"
          ]
        }
      ]
    },
    {
      "cell_type": "markdown",
      "source": [
        "**예제 19**\n",
        "\n",
        "기말고사 점수의 평균을 구하는 코드를 작성하세요"
      ],
      "metadata": {
        "id": "Dzo9toUeygYN"
      }
    },
    {
      "cell_type": "code",
      "source": [
        "mean_score = sum(score)/len(score)\n",
        "print(f'기말고사 점수 평균은 {mean_score}점 입니다.')"
      ],
      "metadata": {
        "id": "-D_dExStyhf3",
        "outputId": "c47d0c9f-7da3-4ec4-c72f-ef54b3173c3a",
        "colab": {
          "base_uri": "https://localhost:8080/"
        }
      },
      "execution_count": 86,
      "outputs": [
        {
          "output_type": "stream",
          "name": "stdout",
          "text": [
            "기말고사 점수 평균은 51.25점 입니다.\n"
          ]
        }
      ]
    },
    {
      "cell_type": "markdown",
      "source": [
        "**예제 20**\n",
        "\n",
        "아파트 층이 다음과 같습니다. 리스트로 저장하세요 (이 리스트의 길이는 4입니다(층별) 각 층별 안에 3개의 호수가 들어갑니다.)\n",
        "\n",
        "\n",
        "```\n",
        "|401|402|403|\n",
        "|301|302|303|\n",
        "|201|202|203|\n",
        "|101|102|103|\n",
        "```\n"
      ],
      "metadata": {
        "id": "ZyLrkr52yhli"
      }
    },
    {
      "cell_type": "code",
      "source": [
        "l = [[401,402,403],\n",
        "     [301,302,303],\n",
        "     [201,202,203],\n",
        "     [101,102,103]]"
      ],
      "metadata": {
        "id": "ISoOLbXeyik2"
      },
      "execution_count": 87,
      "outputs": []
    },
    {
      "cell_type": "markdown",
      "source": [
        "**예제 21**\n",
        "\n",
        "이 리스트의 길이를 출력하고 길이가 4인지 확인하세요"
      ],
      "metadata": {
        "id": "dXnc8Z0dyiqf"
      }
    },
    {
      "cell_type": "code",
      "source": [
        "print(len(l))"
      ],
      "metadata": {
        "id": "KaUWU20Nyjww",
        "outputId": "1def171d-15b6-4148-9f56-44be31b196c7",
        "colab": {
          "base_uri": "https://localhost:8080/"
        }
      },
      "execution_count": 88,
      "outputs": [
        {
          "output_type": "stream",
          "name": "stdout",
          "text": [
            "4\n"
          ]
        }
      ]
    },
    {
      "cell_type": "markdown",
      "source": [
        "**예제 22**\n",
        "\n",
        "`[401,402,403]` 을 출력하세요"
      ],
      "metadata": {
        "id": "EFGvpPuny_DM"
      }
    },
    {
      "cell_type": "code",
      "source": [
        "print(l[0])"
      ],
      "metadata": {
        "id": "8bn_8vsZy-tj",
        "outputId": "87f7dd87-f080-4723-91e2-061d276790c4",
        "colab": {
          "base_uri": "https://localhost:8080/"
        }
      },
      "execution_count": 89,
      "outputs": [
        {
          "output_type": "stream",
          "name": "stdout",
          "text": [
            "[401, 402, 403]\n"
          ]
        }
      ]
    },
    {
      "cell_type": "markdown",
      "source": [
        "\n",
        "\n",
        "**예제 23**\n",
        "\n",
        "`202`를 출력하세요"
      ],
      "metadata": {
        "id": "zs6lSM8zyj3O"
      }
    },
    {
      "cell_type": "code",
      "source": [
        "print(l[2][1])"
      ],
      "metadata": {
        "id": "ZGY-lH56ymeE",
        "outputId": "d3cd406c-359f-44d5-fc72-62517e98eda0",
        "colab": {
          "base_uri": "https://localhost:8080/"
        }
      },
      "execution_count": 92,
      "outputs": [
        {
          "output_type": "stream",
          "name": "stdout",
          "text": [
            "202\n"
          ]
        }
      ]
    },
    {
      "cell_type": "markdown",
      "source": [
        "**예제 24**\n",
        "\n",
        "`303`호를 출력하세요"
      ],
      "metadata": {
        "id": "RlXMDPe9ymlq"
      }
    },
    {
      "cell_type": "code",
      "source": [
        "print(l[1][2])"
      ],
      "metadata": {
        "id": "k9RZeqdWynss",
        "outputId": "8f901bee-358f-434f-d180-21acc6a13504",
        "colab": {
          "base_uri": "https://localhost:8080/"
        }
      },
      "execution_count": 91,
      "outputs": [
        {
          "output_type": "stream",
          "name": "stdout",
          "text": [
            "303\n"
          ]
        }
      ]
    },
    {
      "cell_type": "code",
      "source": [],
      "metadata": {
        "id": "X6hxcg0TRod8"
      },
      "execution_count": 91,
      "outputs": []
    }
  ]
}