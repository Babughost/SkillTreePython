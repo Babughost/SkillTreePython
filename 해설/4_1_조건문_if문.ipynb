{
  "nbformat": 4,
  "nbformat_minor": 0,
  "metadata": {
    "colab": {
      "provenance": [],
      "authorship_tag": "ABX9TyNsvhpZlG2x08nFsCh1pneT",
      "include_colab_link": true
    },
    "kernelspec": {
      "name": "python3",
      "display_name": "Python 3"
    },
    "language_info": {
      "name": "python"
    }
  },
  "cells": [
    {
      "cell_type": "markdown",
      "metadata": {
        "id": "view-in-github",
        "colab_type": "text"
      },
      "source": [
        "<a href=\"https://colab.research.google.com/github/yebiny/SkillTreePython/blob/main/%ED%95%B4%EC%84%A4/4_1_%EC%A1%B0%EA%B1%B4%EB%AC%B8_if%EB%AC%B8.ipynb\" target=\"_parent\"><img src=\"https://colab.research.google.com/assets/colab-badge.svg\" alt=\"Open In Colab\"/></a>"
      ]
    },
    {
      "cell_type": "markdown",
      "source": [
        "# 4-1. 조건문 : if문\n",
        "---\n",
        "* 날짜:\n",
        "* 이름:"
      ],
      "metadata": {
        "id": "kB5IciXEm6o4"
      }
    },
    {
      "cell_type": "markdown",
      "source": [
        "## 개념정리\n",
        "---\n",
        "\n",
        "\n",
        "어떤 특정한 조건에서만 코드가 작동되게 하려면 어떻게 할까요? 파이썬의 경우에는 `if, elif, else` 를 이용하여 코드를 제어합니다. n가지 조건이 나열되어 있을 때 아래와 같이 `if, elif, else`를 배분합니다.\n",
        "\n",
        "\n",
        "```\n",
        "if 조건1:\n",
        "  조건1 만족시 작동\n",
        "elif 조건2:\n",
        "  조건2 만족시 작동\n",
        "...\n",
        "elif 조건n-1:\n",
        "  조건n-1 만족시 작동\n",
        "else:\n",
        "  조건 n 만족시 작동\n",
        "```"
      ],
      "metadata": {
        "id": "4iN8NFzHRJ2D"
      }
    },
    {
      "cell_type": "markdown",
      "source": [
        "### **(1) 기본 사용**\n",
        "\n",
        "간단한 if 문을 작성해 봅시다. if문 하나만으로도 코드를 작성할 수 있습니다. \n",
        "\n",
        "```\n",
        "a = 2\n",
        "\n",
        "if a==2: # a가 2라면 ,\n",
        "  print(\"if문의 영향을 받는 출력\") # 이 코드를 실행\n",
        "```"
      ],
      "metadata": {
        "id": "MAM8MDnfw68b"
      }
    },
    {
      "cell_type": "code",
      "source": [],
      "metadata": {
        "id": "qzaIeO6tSQsb"
      },
      "execution_count": null,
      "outputs": []
    },
    {
      "cell_type": "markdown",
      "source": [
        "#### **들여쓰기**\n",
        "\n",
        "if 문 아래의 `print` 코드는 몇칸을 뛴 후 작성한 것을 볼 수 있습니다. 이를 들여쓰기라고 합니다. 파이썬에서 들여쓰기 한 코드는 들여쓰기를 하기 전 코드의 영향력 아래에 있음을 의미합니다.\n",
        "\n",
        "따라서 위코드에서  `print(\"if문의 영향을 받는 출력\")` 이 부분은 if문의 영향을 받기 때문에 `a==1`일 때만 코드가 실행됩니다.\n",
        "\n",
        "만약 if문의 영향을 끝내고 싶다면 들여쓰기를 하지 않고 코드를 작성하면 됩니다.\n",
        "\n",
        "a 가 2가 아니지만 `print(\"if문의 영향을 받지 않는 출력\")` 줄은 if문의 영향을 받지 않기 때문에 a 값과 상관없이 출력이 됩니다.\n",
        "\n",
        "```\n",
        "a = 0\n",
        "\n",
        "if a==2: # a가 2라면 ,\n",
        "  print(\"if문의 영향을 받는 출력\") # 이 코드를 실행\n",
        "print(\"if문의 영향을 받지 않는 출력\") # 이 코드는 항상 실행됨\n",
        "\n",
        "```"
      ],
      "metadata": {
        "id": "iiBldnc8SdV6"
      }
    },
    {
      "cell_type": "code",
      "source": [],
      "metadata": {
        "id": "y3FK5KXTSVLF"
      },
      "execution_count": null,
      "outputs": []
    },
    {
      "cell_type": "markdown",
      "source": [
        "#### **`elif`**\n",
        "\n",
        "\n",
        "만약 조건을 더 추가하고 싶다면 `elif`를 사용합니다. 이제 조건은 더 세분화 할 수 있습니다.\n",
        "\n",
        "```\n",
        "a= 3\n",
        " \n",
        "if a ==2: # 첫번째 조건을 만족하면\n",
        "  print(\"첫번째 조건을 만족합니다.\") # 이 코드를 실행\n",
        "elif a==3: # 첫번째 조건이 아니라 두번째 조건을 만족하면\n",
        "  print(\"두번째 조건을 만족합니다.\") # 이 조건을 실행\n",
        "```\n"
      ],
      "metadata": {
        "id": "46u1an5GXDc3"
      }
    },
    {
      "cell_type": "code",
      "source": [],
      "metadata": {
        "id": "gPQGwmiRVXyL"
      },
      "execution_count": null,
      "outputs": []
    },
    {
      "cell_type": "markdown",
      "source": [
        "한번 더 조건을 더 추가 하고 싶나요? 마찬가지로 `elif`를 사용합니다. \n",
        "\n",
        "```\n",
        "a= 4\n",
        "\n",
        "if a ==2: # 첫번째 조건을 만족하면 \n",
        "  print(\"첫번째 조건을 만족합니다.\") # 이 코드를 실행\n",
        "elif a==3: # 첫번재 조건이 아니라 두번째 조건을 만족하면\n",
        "  print(\"두번째 조건을 만족합니다.\") # 이 코드를 실행\n",
        "elif a==4: # 첫번째, 두번째 조건이 아니라 세번째 조건을 만족하면\n",
        "  print(\"세번째 조건을 만족합니다.\") # 이 코드를 실행\n",
        "```\n"
      ],
      "metadata": {
        "id": "US4qWBR3ZYsk"
      }
    },
    {
      "cell_type": "code",
      "source": [],
      "metadata": {
        "id": "iqKBm-oZZad_"
      },
      "execution_count": null,
      "outputs": []
    },
    {
      "cell_type": "markdown",
      "source": [
        "#### **`else`**\n",
        "\n",
        "정수는 무한이 많습니다. 2도 아니고, 3도 아니고, 4도 아닌 어느 조건에도 해당하지 않으면 `else`가 실행됩니다.\n",
        "\n",
        "```\n",
        "a= 100\n",
        "\n",
        "if a ==2: # 첫번째 조건을 만족하면 ,\n",
        "  print(\"첫번째 조건을 만족합니다.\") # 이 코드를 실행\n",
        "elif a==3: # 첫번재 조건이 아니라 두번째 조건을 만족하면,\n",
        "  print(\"두번째 조건을 만족합니다.\") # 이 코드를 실행\n",
        "elif a==4: # 첫번째, 두번째 조건이 아니라 세번째 조건을 만족하면,\n",
        "  print(\"세번째 조건을 만족합니다.\") # 이 코드를 실행\n",
        "else: # 어느 조건에도 해당하지 않으면,\n",
        "  print(\"어느 조건에도 해당하지 않습니다.\") # 이 코드를 실행\n",
        "```\n"
      ],
      "metadata": {
        "id": "LwqyhnqYZqd6"
      }
    },
    {
      "cell_type": "code",
      "source": [],
      "metadata": {
        "id": "X6WumNNKZcwh"
      },
      "execution_count": null,
      "outputs": []
    },
    {
      "cell_type": "markdown",
      "source": [
        "\n",
        "### **(2) 여러가지 조건문**\n",
        "\n"
      ],
      "metadata": {
        "id": "l5Mhn4qKZ83M"
      }
    },
    {
      "cell_type": "markdown",
      "source": [
        "#### **두개 이상의 조건**\n",
        "\n",
        "여기서 말하는 두개 이상의 조건은 한 if문에 `and`나 `or`로 연결된 다중 조건을 말합니다. 3의 배수를 생각해 봅시다. 3의 배수는 3으로 나누어 떨어집니다. 또한 3의 배수는 3부터 시작합니다. 따라서 이 두가지 조건을 같이 넣어 봅시다.\n",
        "\n",
        "```\n",
        "a = 12\n",
        "\n",
        "if a>=3 and a%3==0: # a가 3의 배수이면\n",
        "  print(f\"{a}는 3의 배수입니다\") # 이 코드를 실행\n",
        "```\n",
        "\n",
        "코드에서 보듯이 두가지 조건을 연결할 때는 `and` 를 사용합니다. 둘 중 어느 하나만이 아니라 두가지 조건을 모두 만족해야 if문이 실행됩니다."
      ],
      "metadata": {
        "id": "6eSFgbhWaJdw"
      }
    },
    {
      "cell_type": "code",
      "source": [],
      "metadata": {
        "id": "qXQmWJ6aZ0Sx"
      },
      "execution_count": null,
      "outputs": []
    },
    {
      "cell_type": "markdown",
      "source": [
        "#### **이중 if 문**\n",
        "\n",
        "\n",
        "if문 내에 if 문이 들어가 있을 때를 얘기합니다. 이중 if문뿐 아니라 삼중, 사중, 그 이상도 가능합니다. (실제로 잘 사용되지는 않습니다.)\n",
        "\n",
        "```\n",
        "a = 12\n",
        "\n",
        "if a<100: # a가 100보다 작고, \n",
        "  if a%2==0: # a가 2로 나누어 떨어지면,\n",
        "    print(\"짝수입니다.\") # 이 코드를 실행\n",
        "else:  # a가 100보다 크면\n",
        "  print(\"입력숫자초과\") # 이 코드를 실행\n",
        "```"
      ],
      "metadata": {
        "id": "-sGSZzeGaSTo"
      }
    },
    {
      "cell_type": "code",
      "source": [],
      "metadata": {
        "id": "zXboSnyHbHab"
      },
      "execution_count": null,
      "outputs": []
    },
    {
      "cell_type": "markdown",
      "source": [
        "#### `pass`\n",
        "\n",
        "조건문을 작성했으나, 조건에 해당하는 코드를 작성할 필요가 없을 때 사용합니다.\n",
        "조건문을 작성하고 아래와 같이 조건문 밑에 코드를 작성하지 않으면 오류가 납니다.\n",
        "\n",
        "```\n",
        "a = 2\n",
        "if a==2:\n",
        "else:\n",
        "  print('a is not 2')\n",
        "```"
      ],
      "metadata": {
        "id": "aKDeHTjtfoRH"
      }
    },
    {
      "cell_type": "code",
      "source": [],
      "metadata": {
        "id": "OeivHoclf3Q1"
      },
      "execution_count": null,
      "outputs": []
    },
    {
      "cell_type": "markdown",
      "source": [
        "따라서 이런 경우에는 `pass`를 작성해 줍니다.\n",
        "\n",
        "```\n",
        "a = 2\n",
        "if a==2:\n",
        "  pass\n",
        "else:\n",
        "  print('a is not 2')\n",
        "```"
      ],
      "metadata": {
        "id": "-beh_n5Dle1c"
      }
    },
    {
      "cell_type": "code",
      "source": [],
      "metadata": {
        "id": "L-glmaFJlk6c"
      },
      "execution_count": null,
      "outputs": []
    },
    {
      "cell_type": "markdown",
      "source": [
        "### **(3) `if True:`/ `if False:`** "
      ],
      "metadata": {
        "id": "rKbgEKwJbINj"
      }
    },
    {
      "cell_type": "markdown",
      "source": [
        "if문의 조건으로 들어간 `<`, `==` 등의 기호는 산술연산자로서 우리는 이미 앞에서 산술연산자에 대해서 배웠습니다. \n",
        "\n",
        "산술연산자의 결과로 `True` 혹은 `False` 라는 `bool` 값이 나오게 되기 때문에 위에서 우리가 작성한 if문 줄은 `if True:` 혹은 `if False`와 동일합니다.\n",
        "\n",
        "이 말은 `if True` 일 때는 그 아래 코드가 실행이 되고 `if False` 일 때는 그 아래 코드가 실행 되지 않음을 의미합니다.\n",
        "\n",
        "```\n",
        "if True:\n",
        "  print(\"무조건 실행이 됩니다.\")\n",
        "\n",
        "if False:\n",
        "  print(\"무조건 실행이 되지 않습니다.\")\n",
        "```\n",
        "\n"
      ],
      "metadata": {
        "id": "40tGdKqla0D3"
      }
    },
    {
      "cell_type": "code",
      "source": [],
      "metadata": {
        "id": "2b2Zcj5FcI2k"
      },
      "execution_count": null,
      "outputs": []
    },
    {
      "cell_type": "markdown",
      "source": [
        "\n",
        "따라서 if문에는 bool값을 모두 조건문으로 사용할 수 있습니다.  우리는 앞서 `bool` 값을 반환하는 또 다른 연산자들을 배워 봤습니다. 그 중 `is`, `is not`을 이용해 코드를 작성해 보겠습니다.\n",
        "\n",
        "\n",
        "```\n",
        "a = 10\n",
        "b = 10.0\n",
        "\n",
        "if a is b:\n",
        "  print(\"a와 b는 동일\")\n",
        "```"
      ],
      "metadata": {
        "id": "lCOowsEGcI7u"
      }
    },
    {
      "cell_type": "code",
      "source": [],
      "metadata": {
        "id": "Uzczw78BfTsH"
      },
      "execution_count": null,
      "outputs": []
    },
    {
      "cell_type": "markdown",
      "source": [
        "출력이 되나요? `is`는 데이터 타입까지 같아야 `True`라고 하였습니다. 따라서 출력이 되지 않는게 맞습니다."
      ],
      "metadata": {
        "id": "m3uzd_GqfU8O"
      }
    },
    {
      "cell_type": "markdown",
      "source": [
        "#### **`in`, `not in`**\n",
        "\n",
        "우리가 `bool` 시간에 배우지 않은 연산자가 있습니다. 바로 `in`과 `not in` 입니다. 파이썬의 다양한 군집 자료형 안에 특정 요소가 들어있는지, 아닌지를 판별할 수 있는 유용한 연산자 입니다.\n",
        "\n",
        "* `a in s` : 군집 자료형 `s` 안에 요소 `a`가 존재\n",
        "* `a not in s` : 군집 자료형 `s` 안에 요소 'a`가 존재하지 않음.\n",
        "\n",
        "```\n",
        "s= [1,2,3]\n",
        "a = 2\n",
        "\n",
        "if a in s:\n",
        "  print(f\"{a} 가 {s}에 존재합니다.\")\n",
        "```"
      ],
      "metadata": {
        "id": "ypphueHcfmYy"
      }
    },
    {
      "cell_type": "code",
      "source": [],
      "metadata": {
        "id": "NBhc0GUUgTKF"
      },
      "execution_count": null,
      "outputs": []
    },
    {
      "cell_type": "markdown",
      "source": [
        "\n",
        "### **(3) 삼항 연산자**\n",
        "\n",
        "조건문과 같은 기능을 하는 연산자입니다.  상황에 맞게 잘 사용한다면 코드 길이를 효과적으로 줄일 수 있습니다.\n",
        "\n",
        "\n",
        "```\n",
        "# 조건문\n",
        "if 조건:(2)\n",
        "  조건이참일때코드(1)\n",
        "else:(3)\n",
        "  조건거짓일때코드(4)\n",
        "\n",
        "# 삼항 연산자\n",
        "조건참일때코드  if 조건   else   조건거짓일때코드\n",
        "       (1)        (2)     (3)          (4)\n",
        "\n",
        "```\n",
        "아래 코드를 삼항 연산자로 변환해 봅시다.\n",
        "```\n",
        "a = 2\n",
        "\n",
        "if a==2: # 2\n",
        "  print(\"a는 2다.\") # 1\n",
        "else: # 3\n",
        "  print(\"a는 2가 아니다.\") # 4\n",
        "```\n",
        "\n",
        "변환결과\n",
        "\n",
        "```\n",
        "a = 2\n",
        "print(\"a는 2다.\") if a==2 else print(\"a는 2가 아니다.\")\n",
        "```"
      ],
      "metadata": {
        "id": "MddSbtGuaYiD"
      }
    },
    {
      "cell_type": "code",
      "source": [],
      "metadata": {
        "id": "HVDwjdH2aMFj"
      },
      "execution_count": null,
      "outputs": []
    },
    {
      "cell_type": "markdown",
      "source": [
        "## 문제 풀이\n",
        "---\n",
        "\n"
      ],
      "metadata": {
        "id": "i0_nVSq-ahHr"
      }
    },
    {
      "cell_type": "markdown",
      "source": [
        "**예제 01**\n",
        "\n",
        "아래 코드의 실행결과를 예측하고 직접 실행해보세요\n",
        "\n",
        "```\n",
        "if True:\n",
        "    print(\"Hello World\")\n",
        "```"
      ],
      "metadata": {
        "id": "cxHw7Eqwah07"
      }
    },
    {
      "cell_type": "code",
      "source": [
        "# Hello World\n",
        "if True:\n",
        "    print(\"Hello World\")"
      ],
      "metadata": {
        "id": "fIQIHPX7gi6D",
        "outputId": "ff05c30f-8b6a-4e28-d1b0-02fc8094bd35",
        "colab": {
          "base_uri": "https://localhost:8080/"
        }
      },
      "execution_count": null,
      "outputs": [
        {
          "output_type": "stream",
          "name": "stdout",
          "text": [
            "Hello World\n"
          ]
        }
      ]
    },
    {
      "cell_type": "markdown",
      "source": [
        "\n",
        "**예제 02**\n",
        "\n",
        "아래 코드의 실행결과를 예측하고 직접 실행해보세요\n",
        "\n",
        "```\n",
        "if False:\n",
        "    print(\"Hello World\")\n",
        "```\n"
      ],
      "metadata": {
        "id": "mbDRyjksgi9s"
      }
    },
    {
      "cell_type": "code",
      "source": [
        "# \n",
        "if False:\n",
        "    print(\"Hello World\")"
      ],
      "metadata": {
        "id": "0cNRiYJKgjZw"
      },
      "execution_count": null,
      "outputs": []
    },
    {
      "cell_type": "markdown",
      "source": [
        "\n",
        "**예제 03**\n",
        "\n",
        "아래 코드의 실행결과를 예측하고 직접 실행해보세요\n",
        "```\n",
        "if True:\n",
        "    print(\"Hello World\")\n",
        "else\n",
        "    print(\"else\")\n",
        "```"
      ],
      "metadata": {
        "id": "QNTlcFQxgjdK"
      }
    },
    {
      "cell_type": "code",
      "source": [
        "# Hello World\n",
        "if True:\n",
        "    print(\"Hello World\")\n",
        "else:\n",
        "    print(\"else\")"
      ],
      "metadata": {
        "id": "37avWITVgmFO",
        "outputId": "39c8d00e-3645-4d27-d898-fdb47b7299f5",
        "colab": {
          "base_uri": "https://localhost:8080/"
        }
      },
      "execution_count": null,
      "outputs": [
        {
          "output_type": "stream",
          "name": "stdout",
          "text": [
            "Hello World\n"
          ]
        }
      ]
    },
    {
      "cell_type": "markdown",
      "source": [
        "**예제 04**\n",
        "\n",
        "아래 코드의 실행결과를 예측하고 직접 실행해보세요\n",
        "\n",
        "```\n",
        "if False:\n",
        "    print(\"Hello World\")\n",
        "else\n",
        "    print(\"else\")\n",
        "```\n"
      ],
      "metadata": {
        "id": "1GB2dx6sgks-"
      }
    },
    {
      "cell_type": "code",
      "source": [
        "# else\n",
        "if False:\n",
        "    print(\"Hello World\")\n",
        "else:\n",
        "    print(\"else\")"
      ],
      "metadata": {
        "id": "ay0sKGUjgkxo",
        "outputId": "f9af5a65-d849-4363-caa7-c9e67d026f7b",
        "colab": {
          "base_uri": "https://localhost:8080/"
        }
      },
      "execution_count": null,
      "outputs": [
        {
          "output_type": "stream",
          "name": "stdout",
          "text": [
            "else\n"
          ]
        }
      ]
    },
    {
      "cell_type": "markdown",
      "source": [
        "**예제 05**\n",
        "\n",
        "아래 코드의 실행결과를 예측하고 직접 실행해보세요\n",
        "```\n",
        "if 4 < 3:\n",
        "    print(\"Hello World.\")\n",
        "else:\n",
        "    print(\"Hi, there.\")\n",
        "```"
      ],
      "metadata": {
        "id": "a7t3w6UMgmI1"
      }
    },
    {
      "cell_type": "code",
      "source": [
        "# Hi, there\n",
        "if 4 < 3:\n",
        "    print(\"Hello World.\")\n",
        "else:\n",
        "    print(\"Hi, there.\")"
      ],
      "metadata": {
        "id": "0knF53DogoMw",
        "outputId": "375b4f5e-eeb5-4d9c-b56d-bfb3da83574d",
        "colab": {
          "base_uri": "https://localhost:8080/"
        }
      },
      "execution_count": null,
      "outputs": [
        {
          "output_type": "stream",
          "name": "stdout",
          "text": [
            "Hi, there.\n"
          ]
        }
      ]
    },
    {
      "cell_type": "markdown",
      "source": [
        "\n",
        "**예제 06**\n",
        "\n",
        "아래 코드의 실행결과를 예측하고 직접 실행해보세요\n",
        "```\n",
        "if True :\n",
        "    print (\"1\")\n",
        "    print (\"2\")\n",
        "else :\n",
        "    print(\"3\")\n",
        "print(\"4\")\n",
        "```"
      ],
      "metadata": {
        "id": "bZKHjuuYgoSO"
      }
    },
    {
      "cell_type": "code",
      "source": [
        "# 1\n",
        "# 2\n",
        "# 4\n",
        "if True :\n",
        "    print (\"1\")\n",
        "    print (\"2\")\n",
        "else :\n",
        "    print(\"3\")\n",
        "print(\"4\")"
      ],
      "metadata": {
        "id": "FLBUCsIQgpsX",
        "outputId": "3c3868eb-b563-405e-e051-7374ab14a469",
        "colab": {
          "base_uri": "https://localhost:8080/"
        }
      },
      "execution_count": null,
      "outputs": [
        {
          "output_type": "stream",
          "name": "stdout",
          "text": [
            "1\n",
            "2\n",
            "4\n"
          ]
        }
      ]
    },
    {
      "cell_type": "markdown",
      "source": [
        "**예제 07**\n",
        "\n",
        "아래 코드의 실행결과를 예측하고 직접 실행해보세요\n",
        "```\n",
        "if True :\n",
        "    if False:\n",
        "        print(\"1\")\n",
        "        print(\"2\")\n",
        "    else:\n",
        "        print(\"3\")\n",
        "else :\n",
        "    print(\"4\")\n",
        "print(\"5\")\n",
        "\n",
        "```"
      ],
      "metadata": {
        "id": "hzyVRikUgpwD"
      }
    },
    {
      "cell_type": "code",
      "source": [
        "# 3\n",
        "# 5\n",
        "\n",
        "if True :\n",
        "    if False:\n",
        "        print(\"1\")\n",
        "        print(\"2\")\n",
        "    else:\n",
        "        print(\"3\")\n",
        "else :\n",
        "    print(\"4\")\n",
        "print(\"5\")"
      ],
      "metadata": {
        "id": "LLG7boA8gqrI",
        "outputId": "255817dd-0097-4437-ada1-26e83a43eb6b",
        "colab": {
          "base_uri": "https://localhost:8080/"
        }
      },
      "execution_count": null,
      "outputs": [
        {
          "output_type": "stream",
          "name": "stdout",
          "text": [
            "3\n",
            "5\n"
          ]
        }
      ]
    },
    {
      "cell_type": "markdown",
      "source": [
        "**예제 08**\n",
        "\n",
        "입력된 문자열의 길이가 3보다 크면 \"TRUE!\"를 출력하고 그렇지 않으면 'FALSE!'이라는 문자열을 출력하는 코드를 작성하세요. 입력은 내장함수 `input()`를 사용하세요.\n"
      ],
      "metadata": {
        "id": "Gwu5n-oDgqyg"
      }
    },
    {
      "cell_type": "code",
      "source": [
        "in_str = input()\n",
        "if len(in_str)>3: \n",
        "  print('TRUE!')\n",
        "else:\n",
        "  print('FALSE!')"
      ],
      "metadata": {
        "id": "ANsokcT6gtQz",
        "outputId": "b826ca4c-4233-4994-b497-1d7b8c29b6a2",
        "colab": {
          "base_uri": "https://localhost:8080/"
        }
      },
      "execution_count": null,
      "outputs": [
        {
          "output_type": "stream",
          "name": "stdout",
          "text": [
            "코스모스\n",
            "TRUE!\n"
          ]
        }
      ]
    },
    {
      "cell_type": "markdown",
      "source": [
        "**예제 09**\n",
        "\n",
        "입력된 정수값이 짝수이거나 10보다 낮으면 \"target!\" 그렇지 않으면 \"pass\" 라는 문자열을 출력하는 코드를 작성하세요. 입력은 내장함수 `input()`를 사용하세요."
      ],
      "metadata": {
        "id": "9Du9uUgLgta3"
      }
    },
    {
      "cell_type": "code",
      "source": [
        "in_int = int(input())\n",
        "if in_int%2==0 or in_int<10: \n",
        "  print('target!')\n",
        "else:\n",
        "  print('pass')"
      ],
      "metadata": {
        "id": "43fY7qzEgvHf",
        "outputId": "eca99559-169c-45e7-b162-378cbc1514c6",
        "colab": {
          "base_uri": "https://localhost:8080/"
        }
      },
      "execution_count": null,
      "outputs": [
        {
          "output_type": "stream",
          "name": "stdout",
          "text": [
            "5\n",
            "target!\n"
          ]
        }
      ]
    },
    {
      "cell_type": "markdown",
      "source": [
        "**예제 10**\n",
        "\n",
        "\n",
        "0에서 100까지의 정수 `n`을 입력받습니다. 만약 범위에 해당하지 않는 정수를 입력하면 에러 메시지를 보내고 종료됩니다. 제대로 입력하였으면 정수 n에 10을 빼고 출력합니다. 만약 10을 뺀 값이 0보다 작으면 0을 출력하세요\n",
        "\n",
        "\n",
        "* 예시\n",
        "```\n",
        ">> n을 입력하세요: 50\n",
        "40\n",
        "```\n",
        "\n",
        "* 예시\n",
        "```\n",
        ">> n을 입력하세요: 5\n",
        "0\n",
        "```\n",
        "\n",
        "* 예시\n",
        "```\n",
        ">> n을 입력하세요: 200\n",
        "잘못된 숫자입니다.\n",
        "```\n"
      ],
      "metadata": {
        "id": "61JVxwMVgvMh"
      }
    },
    {
      "cell_type": "code",
      "source": [
        "n = int(input())\n",
        "if not 0<=n<=100:\n",
        "  print('잘못된 숫자입니다.')\n",
        "else:\n",
        "  n_ = n-10\n",
        "  if n_ < 0 : n_=0\n",
        "  print(n_)"
      ],
      "metadata": {
        "id": "htKCPqm1l4jk",
        "outputId": "6d0943f3-96d8-4379-fde0-cd21c1db858e",
        "colab": {
          "base_uri": "https://localhost:8080/"
        }
      },
      "execution_count": null,
      "outputs": [
        {
          "output_type": "stream",
          "name": "stdout",
          "text": [
            "5\n",
            "0\n"
          ]
        }
      ]
    },
    {
      "cell_type": "markdown",
      "source": [
        "**예제 11**\n",
        "\n",
        "사용자로부터 문자열을 입력받고 옵션에 따라 대문자 또는 소문자로 변경하는 함수를 작성하세요\n",
        "\n",
        "* 예시\n",
        "```\n",
        ">> change_str(\"aBc\")\n",
        "ABC\n",
        "```\n",
        "\n",
        "* 예시\n",
        "```\n",
        ">> change_str(\"aBc\", opt='up')\n",
        "ABC\n",
        "```\n",
        "\n",
        "* 예시\n",
        "```\n",
        ">> change_str(\"aBc\", opt='down')\n",
        "abc\n",
        "```"
      ],
      "metadata": {
        "id": "RKC26VgahIGt"
      }
    },
    {
      "cell_type": "code",
      "source": [
        "def change_str(w, opt='up'):\n",
        "  if opt == 'up':\n",
        "    return w.upper()\n",
        "  elif opt == 'down':\n",
        "    return w.lower()\n",
        "  else:\n",
        "    return 0\n",
        "\n",
        "print(change_str('aBc'))\n",
        "print(change_str(\"aBc\", opt='up'))\n",
        "print(change_str(\"aBc\", opt='down'))"
      ],
      "metadata": {
        "id": "HyyCKmjAgwLJ",
        "outputId": "ed61fda7-10c5-448a-a6aa-daffa4d33613",
        "colab": {
          "base_uri": "https://localhost:8080/"
        }
      },
      "execution_count": 2,
      "outputs": [
        {
          "output_type": "stream",
          "name": "stdout",
          "text": [
            "ABC\n",
            "ABC\n",
            "abc\n"
          ]
        }
      ]
    },
    {
      "cell_type": "markdown",
      "source": [
        "**예제 12**\n",
        "\n",
        "학점표를 보고 점수에 따른 학점을 출력하는 함수를 작성하세요\n",
        "\n",
        "|점수|학점|\n",
        "--|--\n",
        "70~100|A\n",
        "30~70 |B\n",
        "0~30 | C\n",
        "\n",
        "* 예시\n",
        "```\n",
        ">> cal_grade(50)\n",
        "학점은 B 입니다.\n",
        "```"
      ],
      "metadata": {
        "id": "bbUSm7Pm0ecC"
      }
    },
    {
      "cell_type": "code",
      "source": [
        "def cal_grade(score):\n",
        "  if 70<=score<=100:\n",
        "    grade = 'A'\n",
        "  elif 30<=score<70:\n",
        "    grade = 'B'\n",
        "  elif 0<=score<30:\n",
        "    grade = 'C'\n",
        "  print(f'학점은 {grade} 입니다.')\n",
        "cal_grade(50)"
      ],
      "metadata": {
        "id": "ptdi6nBj0iY9",
        "outputId": "3d77cba3-6308-40b3-eabb-0bf2dbed0a81",
        "colab": {
          "base_uri": "https://localhost:8080/"
        }
      },
      "execution_count": null,
      "outputs": [
        {
          "output_type": "stream",
          "name": "stdout",
          "text": [
            "학점은 B 입니다.\n"
          ]
        }
      ]
    },
    {
      "cell_type": "markdown",
      "source": [
        "**예제 13**\n",
        "\n",
        "주민등록번호 뒷자리의 첫번째 번호를 통해 남여를 구분하세요(1,3 남/ 2,4 여) 만약 주민번호의 규격이 맞지 않으면 에러메시지를 출력하는 코드를 작성하세요. 인풋은 내장함수 `input()`로 받습니다.\n",
        "\n",
        "* 예시\n",
        "```\n",
        ">> 주민번호를 입력하세요: 101010-1010101\n",
        "남성입니다. \n",
        "```\n",
        "\n",
        "* 예시\n",
        "```\n",
        ">> 주민번호를 입력하세요: 101010-101\n",
        "주민번호가 올바르지 않습니다.\n",
        "```"
      ],
      "metadata": {
        "id": "hsVvXoNq0lw1"
      }
    },
    {
      "cell_type": "code",
      "source": [
        "ns = input(\"주민번호를 입력하세요: \")\n",
        "if len(ns)!=14:\n",
        "  print('주민번호가 올바르지 않습니다.')\n",
        "else:\n",
        "  if ns[7]=='1':\n",
        "    print('남성입니다.')\n",
        "  elif ns[7]=='2':\n",
        "    print('여성입니다.')\n",
        "  else:\n",
        "    print('잘못된 주민번호 입니다.')"
      ],
      "metadata": {
        "id": "-ZBStYHn0skR",
        "outputId": "39916724-c467-4fcd-b624-ca0c6238a039",
        "colab": {
          "base_uri": "https://localhost:8080/"
        }
      },
      "execution_count": null,
      "outputs": [
        {
          "output_type": "stream",
          "name": "stdout",
          "text": [
            "주민번호를 입력하세요: 101010-1010101\n",
            "남성입니다.\n"
          ]
        }
      ]
    },
    {
      "cell_type": "markdown",
      "source": [
        "**예제 14**\n",
        "\n",
        "자판기 함수를 생성합니다. 조건은 아래와 같습니다.\n",
        "\n",
        "- 음료수 종류와 가격이 적힌 메뉴판을 출력합니다.(최소 3가지 이상의 음료 종류를 딕셔너리 형태로 저장하세요)\n",
        "- 음료수 종류를 입력받고 가격을 안내합니다.\n",
        "- 금액을 입력받습니다.\n",
        "- 금액이 충분하면 음료수와 거스름돈을 반환하는 메시지를 출력합니다.\n",
        "- 금액이 불충분하면 금액을 반환하는 메시지를 출력합니다.\n"
      ],
      "metadata": {
        "id": "-ya-B4m20tmB"
      }
    },
    {
      "cell_type": "code",
      "source": [
        "def 자판기():\n",
        "  메뉴판 = {'포카리':1000, '콜라':1200, '사이다':1100, '오렌지주스':1500}\n",
        "  print(f'==  메뉴판 ==')\n",
        "  print('\\n'.join(list(map(lambda x: f'{x} : {메뉴판[x]} 원', 메뉴판))))\n",
        "  print('===============')\n",
        "  종류 = input(\"음료수 종류를 입력하세요: \")\n",
        "  가격 = 메뉴판[종류]\n",
        "  금액 = int(input(f\"{가격}원을 지불하세요.\"))\n",
        "  if 금액 >= 가격:\n",
        "    print(f'{종류} 가 나왔습니다. 거스름돈은 {금액-가격}원 입니다.')\n",
        "  else:\n",
        "    print(f'금액이 {가격-금액}원 부족합니다. 자판기가 종료됩니다.')\n",
        "\n",
        "자판기()"
      ],
      "metadata": {
        "id": "dhiVxMpT0uxy",
        "outputId": "3979a29e-b2ad-4b8c-8da9-e14981c09ce2",
        "colab": {
          "base_uri": "https://localhost:8080/"
        }
      },
      "execution_count": null,
      "outputs": [
        {
          "output_type": "stream",
          "name": "stdout",
          "text": [
            "==  메뉴판 ==\n",
            "포카리 : 1000 원\n",
            "콜라 : 1200 원\n",
            "사이다 : 1100 원\n",
            "오렌지주스 : 1500 원\n",
            "===============\n",
            "음료수 종류를 입력하세요: 포카리\n",
            "1000원을 지불하세요.1500\n",
            "포카리 가 나왔습니다. 거스름돈은 500원 입니다.\n"
          ]
        }
      ]
    },
    {
      "cell_type": "markdown",
      "source": [
        "\n",
        "**예제 15**\n",
        "\n",
        "두 수를 비교하는 함수를 만듭니다.\n",
        "\n",
        "* 예시\n",
        "```\n",
        ">> comp_ab(1,2)\n",
        "1<2\n",
        "```\n",
        "\n",
        "* 예시\n",
        "```\n",
        ">> comp_ab(2,1)\n",
        "2>1\n",
        "```\n",
        "\n",
        "* 예시\n",
        "```\n",
        ">> comp_ab(1,1)\n",
        "1==1\n",
        "```\n"
      ],
      "metadata": {
        "id": "CH2QLyAB0u26"
      }
    },
    {
      "cell_type": "code",
      "source": [
        "def comp_ab(a,b):\n",
        "  if a<b:\n",
        "    print(f'{a}<{b}')\n",
        "  elif a>b:\n",
        "    print(f'{a}>{b}')\n",
        "  else:\n",
        "    print(f'{a}=={b}')\n",
        "\n",
        "comp_ab(1,2)\n",
        "comp_ab(2,1)\n",
        "comp_ab(1,1)"
      ],
      "metadata": {
        "id": "rqclrJtM059c",
        "outputId": "746f9b54-4f84-43f3-a249-9ad0fac27082",
        "colab": {
          "base_uri": "https://localhost:8080/"
        }
      },
      "execution_count": null,
      "outputs": [
        {
          "output_type": "stream",
          "name": "stdout",
          "text": [
            "1<2\n",
            "2>1\n",
            "1==1\n"
          ]
        }
      ]
    },
    {
      "cell_type": "markdown",
      "source": [
        "**예제 16**\n",
        "\n",
        "아래 두개의 조건중 하나라도 만족하는 숫자를 입력하면 \"target\", 그렇지 않으면 \"pass\"를 출력하는 함수를 작성하세요\n",
        "\n",
        "- 3의 배수이면서, 5의 배수가 아닐때\n",
        "- 10의 배수일 때\n",
        "\n",
        "```\n",
        ">> target_num(15)\n",
        "pass\n",
        "```\n",
        "\n",
        "```\n",
        ">> target_num(150)\n",
        "target\n",
        "```"
      ],
      "metadata": {
        "id": "5LebGsgu06CO"
      }
    },
    {
      "cell_type": "code",
      "source": [
        "def target_num(n):\n",
        "  if ( (n%3==0 and n>=3) and ( not (n%5==0 and n>=5) ) ) or (n%10==0 and n>=10):\n",
        "    #    3의 배수      이면서    5의 배수가 아닐때      혹은   10의 배수일 때 \n",
        "    print('target')\n",
        "  else:\n",
        "    print('pass')\n",
        "\n",
        "target_num(15)\n",
        "target_num(150)"
      ],
      "metadata": {
        "id": "_j4vEmT70_rR",
        "outputId": "20c91dca-0261-45ca-dc28-1cec0b396ef9",
        "colab": {
          "base_uri": "https://localhost:8080/"
        }
      },
      "execution_count": null,
      "outputs": [
        {
          "output_type": "stream",
          "name": "stdout",
          "text": [
            "pass\n",
            "target\n"
          ]
        }
      ]
    },
    {
      "cell_type": "markdown",
      "source": [
        "**예제 17**\n",
        "\n",
        "두개의 정수값을 받아서 몇사분면에 위치해 있는지, 혹은 x축, y축,  원점 위에 있는지 판단하는 함수를 작성하세요\n",
        "\n",
        "* 예시\n",
        "```\n",
        ">> which_plane(1,1)\n",
        "1사분면에 있습니다.\n",
        "```\n",
        "* 예시\n",
        "```\n",
        ">> which_plane(0,0)\n",
        "원점에 있습니다.\n",
        "```"
      ],
      "metadata": {
        "id": "_9ygEJmV0_wy"
      }
    },
    {
      "cell_type": "code",
      "source": [
        "def which_plane(x, y):\n",
        "  if x>0 and y>0:\n",
        "    print('1사분면에 있습니다.')\n",
        "  elif x<0 and y>0:\n",
        "    print('2사분면에 있습니다.')\n",
        "  elif x<0 and y<0:\n",
        "    print('3사분면에 있습니다.')\n",
        "  elif x>0 and y<0:\n",
        "    print('4사분면에 있습니다.')\n",
        "  elif x==0 and y!=0:\n",
        "    print('y축 위에 있습니다.')\n",
        "  elif x!=0 and y==0: \n",
        "    print('x축 위에 있습니다.')\n",
        "  else: \n",
        "    print('원점에 있습니다.')\n",
        "\n",
        "which_plane(1,1)\n",
        "which_plane(0,0)\n",
        "which_plane(-1,0)"
      ],
      "metadata": {
        "id": "c6YweOOI1HQX",
        "outputId": "6633dd61-f91a-4120-9bb1-5f959dcc7760",
        "colab": {
          "base_uri": "https://localhost:8080/"
        }
      },
      "execution_count": 3,
      "outputs": [
        {
          "output_type": "stream",
          "name": "stdout",
          "text": [
            "1사분면에 있습니다.\n",
            "원점에 있습니다.\n",
            "x축 위에 있습니다.\n"
          ]
        }
      ]
    },
    {
      "cell_type": "markdown",
      "source": [
        "**예제 18**\n",
        "\n",
        "시(H)와 분(M)을 입력하면 1시간 30분뒤 시간을 알려주는 함수를 작성하세요\n",
        "\n",
        "* 예시\n",
        "```\n",
        ">> after_time(7,30)\n",
        "9:00\n",
        "```\n",
        "\n",
        "* 예시\n",
        "```\n",
        ">> after_time(11,50)\n",
        "13:20\n",
        "```\n",
        "\n",
        "* 예시\n",
        "```\n",
        ">> after_time(23,40)\n",
        "01:10\n",
        "```"
      ],
      "metadata": {
        "id": "urINDRs11IVx"
      }
    },
    {
      "cell_type": "code",
      "source": [
        "def after_time(H,M):\n",
        "  H+=1 # 1시간 더해주기\n",
        "  M+=30 # 30분 더해주기\n",
        "  if M >=60: # 60분이 넘어가면\n",
        "    H+=1 # 1시간을 더해주고\n",
        "    M-=60 # 60분은 감해줘서 0분 부터 시작\n",
        "  if H >=24: # 24시가 넘어가면\n",
        "    H-=24 # 24시를 감해줘서 0시 부터 시작\n",
        "\n",
        "  # str 자료형의 zfill 메서드 사용해 출력을 깔끔하게 할 수 있습니다.\n",
        "  H = str(H).zfill(2) \n",
        "  M = str(M).zfill(2) \n",
        "  print(f'{H}:{M}')\n",
        "\n",
        "after_time(7,30)\n",
        "after_time(11,50)\n",
        "after_time(23,40)"
      ],
      "metadata": {
        "id": "lhOhiExm1Qlm",
        "outputId": "3d2be69a-b1cd-4e57-cfc4-f9193d9a6dd0",
        "colab": {
          "base_uri": "https://localhost:8080/"
        }
      },
      "execution_count": null,
      "outputs": [
        {
          "output_type": "stream",
          "name": "stdout",
          "text": [
            "09:00\n",
            "13:20\n",
            "01:10\n"
          ]
        }
      ]
    },
    {
      "cell_type": "markdown",
      "source": [
        "**예제 19**\n",
        "\n",
        "아래와 같이 사용자가 0부터 100까지 숫자를 입력하면 한국어로 변환하는 코드를 작성하세요\n",
        "\n",
        "* 예시\n",
        "```\n",
        ">> 0부터 100까지 숫자를 입력하세요: 100\n",
        "백\n",
        "```\n",
        "\n",
        "* 예시\n",
        "```\n",
        ">> 0부터 9까지 숫자를 입력하세요: 84\n",
        "팔십사\n",
        "```\n"
      ],
      "metadata": {
        "id": "J25zSIwn1SCp"
      }
    },
    {
      "cell_type": "code",
      "source": [
        "kordict = {0:'영', 1:'일',2:'이', 3:'삼', 4:'사', 5:'오', 6:'육', 7:'칠', 8:'팔', 9:'구'}\n",
        "n = input('0부터 100까지 숫자를 입력하세요: ')\n",
        "if 0<=int(n)<=100:\n",
        "  if len(n)==1:\n",
        "    print(kordict[int(n)])\n",
        "  elif len(n)==2:\n",
        "    십의자리 = int(n[0])\n",
        "    일의자리 = int(n[1])\n",
        "    if int(n)%10==0:\n",
        "      print(f'{kordict[십의자리]}십')\n",
        "    else:\n",
        "      print(f'{kordict[십의자리]}십{kordict[일의자리]}')\n",
        "  else: \n",
        "    print('백')\n",
        "else:\n",
        "  print('잘못 입력하셨습니다.')"
      ],
      "metadata": {
        "id": "uDhjzIWA1bYP",
        "outputId": "55d7914f-0f5e-449a-bdf6-1c3368cfc415",
        "colab": {
          "base_uri": "https://localhost:8080/"
        }
      },
      "execution_count": null,
      "outputs": [
        {
          "output_type": "stream",
          "name": "stdout",
          "text": [
            "0부터 100까지 숫자를 입력하세요: 84\n",
            "팔십사\n"
          ]
        }
      ]
    },
    {
      "cell_type": "markdown",
      "source": [
        "**예제 20**\n",
        "\n",
        "두참가자에게 투표를 한 문자열이 주어집니다. 1번과 2번중 더 높은 투표를 받은 사람이 번호를 출력하세요. 만약 투표수가 동일하면 \"draw\"를 출력합니다.\n",
        "\n",
        "* 예시\n",
        "```\n",
        ">> who_win(\"122211\")\n",
        "draw\n",
        "```\n",
        "\n",
        "* 예시\n",
        "```\n",
        ">> who_win(\"211222212\")\n",
        "2\n",
        "```"
      ],
      "metadata": {
        "id": "5r-j6QRK1ca0"
      }
    },
    {
      "cell_type": "code",
      "source": [
        "def who_win(vote):\n",
        "  v1 = vote.count(\"1\")\n",
        "  v2 = vote.count(\"2\")\n",
        "  if v1>v2:\n",
        "    print(\"1\")\n",
        "  elif v1<v2:\n",
        "    print(\"2\")\n",
        "  else:\n",
        "    print(\"draw\")\n",
        "\n",
        "def who_win(vote):\n",
        "  v1 = len(list(filter(lambda x:x=='1', vote )))\n",
        "  v2 = len(list(filter(lambda x:x=='2', vote )))\n",
        "  if v1>v2:\n",
        "    print(\"1\")\n",
        "  elif v1<v2:\n",
        "    print(\"2\")\n",
        "  else:\n",
        "    print(\"draw\")\n",
        "\n",
        "who_win(\"122211\")\n",
        "who_win(\"211222212\")"
      ],
      "metadata": {
        "id": "kXN8XBa91h3X",
        "outputId": "2b86c43f-e8cf-4f9d-d114-bc618b1c577e",
        "colab": {
          "base_uri": "https://localhost:8080/"
        }
      },
      "execution_count": null,
      "outputs": [
        {
          "output_type": "stream",
          "name": "stdout",
          "text": [
            "draw\n",
            "2\n"
          ]
        }
      ]
    },
    {
      "cell_type": "code",
      "source": [],
      "metadata": {
        "id": "dSJGeftrVqlG"
      },
      "execution_count": null,
      "outputs": []
    }
  ]
}