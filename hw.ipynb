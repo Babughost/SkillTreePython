{
  "nbformat": 4,
  "nbformat_minor": 0,
  "metadata": {
    "colab": {
      "provenance": [],
      "include_colab_link": true
    },
    "kernelspec": {
      "name": "python3",
      "display_name": "Python 3"
    },
    "language_info": {
      "name": "python"
    }
  },
  "cells": [
    {
      "cell_type": "markdown",
      "metadata": {
        "id": "view-in-github",
        "colab_type": "text"
      },
      "source": [
        "<a href=\"https://colab.research.google.com/github/Babughost/SkillTreePython/blob/main/hw.ipynb\" target=\"_parent\"><img src=\"https://colab.research.google.com/assets/colab-badge.svg\" alt=\"Open In Colab\"/></a>"
      ]
    },
    {
      "cell_type": "code",
      "source": [
        "import requests\n",
        "import json"
      ],
      "metadata": {
        "id": "bt12urUat6Gf"
      },
      "execution_count": 1,
      "outputs": []
    },
    {
      "cell_type": "code",
      "source": [
        "!pip install --upgrade gdown"
      ],
      "metadata": {
        "colab": {
          "base_uri": "https://localhost:8080/"
        },
        "id": "eqdTJkWhPuD-",
        "outputId": "cc9efe46-bd67-4c41-a9ec-c9b7b8f656a0"
      },
      "execution_count": 2,
      "outputs": [
        {
          "output_type": "stream",
          "name": "stdout",
          "text": [
            "Looking in indexes: https://pypi.org/simple, https://us-python.pkg.dev/colab-wheels/public/simple/\n",
            "Requirement already satisfied: gdown in /usr/local/lib/python3.8/dist-packages (4.4.0)\n",
            "Collecting gdown\n",
            "  Downloading gdown-4.6.0-py3-none-any.whl (14 kB)\n",
            "Requirement already satisfied: six in /usr/local/lib/python3.8/dist-packages (from gdown) (1.15.0)\n",
            "Requirement already satisfied: filelock in /usr/local/lib/python3.8/dist-packages (from gdown) (3.8.2)\n",
            "Requirement already satisfied: requests[socks] in /usr/local/lib/python3.8/dist-packages (from gdown) (2.25.1)\n",
            "Requirement already satisfied: beautifulsoup4 in /usr/local/lib/python3.8/dist-packages (from gdown) (4.6.3)\n",
            "Requirement already satisfied: tqdm in /usr/local/lib/python3.8/dist-packages (from gdown) (4.64.1)\n",
            "Requirement already satisfied: chardet<5,>=3.0.2 in /usr/local/lib/python3.8/dist-packages (from requests[socks]->gdown) (4.0.0)\n",
            "Requirement already satisfied: urllib3<1.27,>=1.21.1 in /usr/local/lib/python3.8/dist-packages (from requests[socks]->gdown) (1.24.3)\n",
            "Requirement already satisfied: certifi>=2017.4.17 in /usr/local/lib/python3.8/dist-packages (from requests[socks]->gdown) (2022.12.7)\n",
            "Requirement already satisfied: idna<3,>=2.5 in /usr/local/lib/python3.8/dist-packages (from requests[socks]->gdown) (2.10)\n",
            "Requirement already satisfied: PySocks!=1.5.7,>=1.5.6 in /usr/local/lib/python3.8/dist-packages (from requests[socks]->gdown) (1.7.1)\n",
            "Installing collected packages: gdown\n",
            "  Attempting uninstall: gdown\n",
            "    Found existing installation: gdown 4.4.0\n",
            "    Uninstalling gdown-4.4.0:\n",
            "      Successfully uninstalled gdown-4.4.0\n",
            "Successfully installed gdown-4.6.0\n"
          ]
        }
      ]
    },
    {
      "cell_type": "code",
      "source": [
        "# https://drive.google.com/file/d/1R7i1XqmiJ_NirSEwQg1lLz6utzrTufVW/view?usp=share_link\n",
        "!gdown 1R7i1XqmiJ_NirSEwQg1lLz6utzrTufVW"
      ],
      "metadata": {
        "colab": {
          "base_uri": "https://localhost:8080/"
        },
        "id": "DgBq19XHPJ3v",
        "outputId": "5d18873f-b1e9-48b9-c1c8-ea7bb81813a4"
      },
      "execution_count": 3,
      "outputs": [
        {
          "output_type": "stream",
          "name": "stdout",
          "text": [
            "Downloading...\n",
            "From: https://drive.google.com/uc?id=1R7i1XqmiJ_NirSEwQg1lLz6utzrTufVW\n",
            "To: /content/chkmethod.py\n",
            "\r  0% 0.00/1.65k [00:00<?, ?B/s]\r100% 1.65k/1.65k [00:00<00:00, 3.04MB/s]\n"
          ]
        }
      ]
    },
    {
      "cell_type": "code",
      "source": [
        "from chkmethod import check_str, check_strlist, check_range, check_num, summary"
      ],
      "metadata": {
        "id": "OQILOsSzPgTO"
      },
      "execution_count": 4,
      "outputs": []
    },
    {
      "cell_type": "code",
      "source": [
        "import numpy as np\n",
        "import sympy as S\n",
        "\n",
        "ans = {}"
      ],
      "metadata": {
        "id": "6LaDr9vnoSBY"
      },
      "execution_count": 5,
      "outputs": []
    },
    {
      "cell_type": "markdown",
      "source": [
        "## 다음 어레이 `A`에 대해서 물음에 답하시오."
      ],
      "metadata": {
        "id": "UctoU4NIoIlx"
      }
    },
    {
      "cell_type": "code",
      "source": [
        "np.random.seed(42)\n",
        "\n",
        "A = np.random.rand(10*3).reshape(10,3)\n",
        "A"
      ],
      "metadata": {
        "colab": {
          "base_uri": "https://localhost:8080/"
        },
        "id": "KYDA11EvoYQC",
        "outputId": "80745131-b9ec-4429-a005-6cccb1a5335c"
      },
      "execution_count": 6,
      "outputs": [
        {
          "output_type": "execute_result",
          "data": {
            "text/plain": [
              "array([[0.37454012, 0.95071431, 0.73199394],\n",
              "       [0.59865848, 0.15601864, 0.15599452],\n",
              "       [0.05808361, 0.86617615, 0.60111501],\n",
              "       [0.70807258, 0.02058449, 0.96990985],\n",
              "       [0.83244264, 0.21233911, 0.18182497],\n",
              "       [0.18340451, 0.30424224, 0.52475643],\n",
              "       [0.43194502, 0.29122914, 0.61185289],\n",
              "       [0.13949386, 0.29214465, 0.36636184],\n",
              "       [0.45606998, 0.78517596, 0.19967378],\n",
              "       [0.51423444, 0.59241457, 0.04645041]])"
            ]
          },
          "metadata": {},
          "execution_count": 6
        }
      ]
    },
    {
      "cell_type": "markdown",
      "source": [
        "### 1. 주어진 어레이 `A`의 3열 값을 0.5보다 같거나 크면 1, 0.5보다 작으면 0으로 바꾸고 1로 바뀐 것은 모두 몇개인지 계산하시오."
      ],
      "metadata": {
        "id": "wj5c0hxjrQyL"
      }
    },
    {
      "cell_type": "code",
      "source": [
        "count = 0\n",
        "for i in range(len(A)):\n",
        "    if A[i][2] >= 0.5:\n",
        "        A[i][2] = 1\n",
        "        count += 1\n",
        "    else:\n",
        "        A[i][2] = 0\n",
        "print(count)"
      ],
      "metadata": {
        "id": "L2D62PrBo1vj",
        "outputId": "18ae9a01-efa4-4048-d185-a8313636e857",
        "colab": {
          "base_uri": "https://localhost:8080/"
        }
      },
      "execution_count": 7,
      "outputs": [
        {
          "output_type": "stream",
          "name": "stdout",
          "text": [
            "5\n"
          ]
        }
      ]
    },
    {
      "cell_type": "code",
      "source": [
        "######################################################################\n",
        "# ans['p1']에 정답을 int()로 감싸서 int형으로 변환하여 대입하시오.\n",
        "######################################################################\n",
        "\n",
        "ans['p1'] = int(5)"
      ],
      "metadata": {
        "id": "PiNBvMlnsQON"
      },
      "execution_count": 8,
      "outputs": []
    },
    {
      "cell_type": "markdown",
      "source": [
        "### 2. 1번과 동일한 절차로 아래 만들어진 `(10000,3)`인 어레이의 3열에서 0.5보다 같거나 큰 숫자는 모두 몇개인지 계산하시오."
      ],
      "metadata": {
        "id": "G-vVsubprnhY"
      }
    },
    {
      "cell_type": "code",
      "source": [
        "np.random.seed(42)\n",
        "B = np.random.rand(10000*3).reshape(10000,3)\n",
        "\n",
        "count = 0\n",
        "for i in range(len(B)):\n",
        "    if B[i][2] >= 0.5:\n",
        "        count += 1\n",
        "    \n",
        "print(count)"
      ],
      "metadata": {
        "id": "98InXtYiqGbO",
        "outputId": "28902243-fb07-4355-cf05-94fd3d57d698",
        "colab": {
          "base_uri": "https://localhost:8080/"
        }
      },
      "execution_count": 9,
      "outputs": [
        {
          "output_type": "stream",
          "name": "stdout",
          "text": [
            "4989\n"
          ]
        }
      ]
    },
    {
      "cell_type": "code",
      "source": [
        "######################################################################\n",
        "# ans['p2']에 정답을 int()로 감싸서 int형으로 변환하여 대입하시오.\n",
        "######################################################################\n",
        "\n",
        "ans['p2'] = int(4989)"
      ],
      "metadata": {
        "id": "NMS5bomtsXAM"
      },
      "execution_count": 10,
      "outputs": []
    },
    {
      "cell_type": "markdown",
      "source": [
        "## 다음 함수를 주어진 미분하기 위해 다음 문제에 답하시오.\n",
        "\n",
        "$$\n",
        "y = \\left( \\frac{\\sqrt{x}}{2} - 1 \\right)^{-10}\n",
        "$$\n",
        "\n",
        "\n"
      ],
      "metadata": {
        "id": "2KrQO1YtmpB7"
      }
    },
    {
      "cell_type": "markdown",
      "source": [
        "### 3. 심파이를 써서 도함수를 구하고 $x=1$ 에서 함수 값과 미분 계수를 계산하시오."
      ],
      "metadata": {
        "id": "jg9dOWxPmzv7"
      }
    },
    {
      "cell_type": "code",
      "source": [
        "import sympy as sp\n",
        "\n",
        "# x = sp.Symbol('x')\n",
        "# y = ((x**(1/2)/2)-1)**(-10)\n",
        "# dy = sp.diff(y, x)\n",
        "\n",
        "# print(y)\n",
        "# print(dy)\n",
        "\n",
        "# y_at_x1 = y.evalf(subs={x:1})\n",
        "# dy_at_x1 = dy.evalf(subs={x:1})\n",
        "\n",
        "# print(f\"y at x=1: {y_at_x1}\")\n",
        "# print(f\"dy/dx at x=1: {dy_at_x1}\")\n",
        "\n",
        "\n",
        "x = S.Symbol('x')\n",
        "y = (S.sqrt(x)/2-1)**(-10)\n",
        "y\n"
      ],
      "metadata": {
        "id": "yojeshZCm73m",
        "outputId": "835a651d-1e0a-4717-863c-430137080b23",
        "colab": {
          "base_uri": "https://localhost:8080/",
          "height": 71
        }
      },
      "execution_count": 12,
      "outputs": [
        {
          "output_type": "execute_result",
          "data": {
            "text/plain": [
              "(sqrt(x)/2 - 1)**(-10)"
            ],
            "text/latex": "$\\displaystyle \\frac{1}{\\left(\\frac{\\sqrt{x}}{2} - 1\\right)^{10}}$"
          },
          "metadata": {},
          "execution_count": 12
        }
      ]
    },
    {
      "cell_type": "code",
      "source": [
        "dy = S.diff(y, x)\n",
        "dy"
      ],
      "metadata": {
        "id": "KH5Z7DH-JiuX",
        "outputId": "48f62601-16dc-4b7b-c474-52b343d6d978",
        "colab": {
          "base_uri": "https://localhost:8080/",
          "height": 71
        }
      },
      "execution_count": 13,
      "outputs": [
        {
          "output_type": "execute_result",
          "data": {
            "text/plain": [
              "-5/(2*sqrt(x)*(sqrt(x)/2 - 1)**11)"
            ],
            "text/latex": "$\\displaystyle - \\frac{5}{2 \\sqrt{x} \\left(\\frac{\\sqrt{x}}{2} - 1\\right)^{11}}$"
          },
          "metadata": {},
          "execution_count": 13
        }
      ]
    },
    {
      "cell_type": "code",
      "source": [
        "x0 = 1\n",
        "\n",
        "dy.subs({x:x0})"
      ],
      "metadata": {
        "id": "N8X_6AZ2JscL",
        "outputId": "2b7055c6-d323-47b3-e43b-ccbe212abe88",
        "colab": {
          "base_uri": "https://localhost:8080/",
          "height": 37
        }
      },
      "execution_count": 14,
      "outputs": [
        {
          "output_type": "execute_result",
          "data": {
            "text/plain": [
              "5120"
            ],
            "text/latex": "$\\displaystyle 5120$"
          },
          "metadata": {},
          "execution_count": 14
        }
      ]
    },
    {
      "cell_type": "code",
      "source": [
        "######################################################################\n",
        "# ans['p3']에 정답을 float()로 감싸서 float형으로 변환하여 대입하시오.\n",
        "######################################################################\n",
        "\n",
        "ans['p3'] = float(dy.subs({x:x0}))"
      ],
      "metadata": {
        "id": "KWedaXr3sOPa"
      },
      "execution_count": 15,
      "outputs": []
    },
    {
      "cell_type": "markdown",
      "source": [
        "### 4. 주어진 함수를 자동 미분하기 위해 포워드 패스에서 변수의 거듭 제곱을 계산하고 백워드에서 포워드 패스 함수의 도함수 값을 계산하는 `pow(x, n)` 함수를 정의하시오. 그리고 $x=0.631$, $n=3$ 에서 함수값과 도함수 값을 구하시오."
      ],
      "metadata": {
        "id": "d7NRRmY-m9IK"
      }
    },
    {
      "cell_type": "code",
      "source": [
        "def pow(x, n):\n",
        "    # 포워드 패스\n",
        "    x_pow = x ** n\n",
        "    # 백워드 패스\n",
        "    dx = n * x ** (n-1)\n",
        "    return x_pow, dx\n",
        "\n",
        "# 𝑥=0.631, 𝑛=3 에서 함수값과 도함수 값을 구합니다.\n",
        "x_pow, dx = pow(0.631, 3)\n",
        "\n",
        "print(f\"x_pow at x=0.631, n=3: {x_pow}\")\n",
        "print(f\"dx/dx at x=0.631, n=3: {dx}\")"
      ],
      "metadata": {
        "id": "5wHHBEeGnkCK",
        "outputId": "4fd9dc11-3a4e-4b43-adc5-9f633ab9a5c4",
        "colab": {
          "base_uri": "https://localhost:8080/"
        }
      },
      "execution_count": null,
      "outputs": [
        {
          "output_type": "stream",
          "name": "stdout",
          "text": [
            "x_pow at x=0.631, n=3: 0.251239591\n",
            "dx/dx at x=0.631, n=3: 1.194483\n"
          ]
        }
      ]
    },
    {
      "cell_type": "code",
      "source": [
        "#############################################################\n",
        "# ans['p4-1']에 함수값을 ans['p4-2']에 도함수값을 대입하시오.\n",
        "#############################################################\n",
        "\n",
        "ans['p4-1'] = {x_pow}\n",
        "ans['p4-2'] = {dx}"
      ],
      "metadata": {
        "id": "nB-EZyV2sn9P"
      },
      "execution_count": null,
      "outputs": []
    },
    {
      "cell_type": "markdown",
      "source": [
        "### 5. 제시된 `add()`와 `mul()` 그리고 문제 4에서 작성한 `pow()`를 사용하여 주어진 함수를 자동 미분하시오. 함수값과 미분 계수는 $x=1$에서 계산하시오."
      ],
      "metadata": {
        "id": "4ZmQklC1nklh"
      }
    },
    {
      "cell_type": "code",
      "source": [
        "def add(x, a):\n",
        "    return x+a, 1\n",
        "\n",
        "def mul(x, a):\n",
        "    return a*x, a"
      ],
      "metadata": {
        "id": "yj5WobCfn7U-"
      },
      "execution_count": null,
      "outputs": []
    },
    {
      "cell_type": "code",
      "source": [
        "x0 = 1\n",
        "\n",
        "# WRITE CODE HERE [+]\n"
      ],
      "metadata": {
        "id": "vdBjSQeHrEEx"
      },
      "execution_count": null,
      "outputs": []
    },
    {
      "cell_type": "code",
      "source": [
        "######################################################################\n",
        "# ans['p5-1']에 함수값을 대입하시오.\n",
        "######################################################################\n",
        "ans['p5-1'] = None\n",
        "\n",
        "######################################################################\n",
        "# ans['p5-2']에 미분계수를 대입하시오.\n",
        "######################################################################\n",
        "ans['p5-2'] = None"
      ],
      "metadata": {
        "id": "jTqgtsnrs17D"
      },
      "execution_count": null,
      "outputs": []
    },
    {
      "cell_type": "code",
      "source": [
        "# ans를 json으로 만들어서 서버에 post\n",
        "ans['p_set'] = '20230106_hkit'\n",
        "headers = {'Content-Type': 'application/json; chearset=utf-8'}\n",
        "response  = requests.post('https://metamath.pythonanywhere.com/solchk', \n",
        "                          data=json.dumps(ans, default=str), headers=headers)\n",
        "\n",
        "\n",
        "# 채점 결과가 들어있음\n",
        "res = json.loads(response.text)\n",
        "\n",
        "summary( res )"
      ],
      "metadata": {
        "colab": {
          "base_uri": "https://localhost:8080/"
        },
        "id": "tuJDMdu-uCxw",
        "outputId": "1f81d486-707d-450c-9fd3-eff049c4f8c5"
      },
      "execution_count": null,
      "outputs": [
        {
          "output_type": "stream",
          "name": "stdout",
          "text": [
            "p1: FAIL\n",
            "p2: FAIL\n",
            "p3: FAIL\n",
            "p4-1: FAIL\n",
            "p4-2: FAIL\n",
            "p5-1: FAIL\n",
            "p5-2: FAIL\n"
          ]
        }
      ]
    },
    {
      "cell_type": "code",
      "source": [],
      "metadata": {
        "id": "3WVR_SftwrKQ"
      },
      "execution_count": null,
      "outputs": []
    }
  ]
}